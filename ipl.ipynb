{
 "cells": [
  {
   "cell_type": "code",
   "execution_count": 1,
   "metadata": {},
   "outputs": [
    {
     "name": "stderr",
     "output_type": "stream",
     "text": [
      "\n",
      "[notice] A new release of pip is available: 24.0 -> 24.1.2\n",
      "[notice] To update, run: C:\\Users\\91987\\AppData\\Local\\Programs\\Python\\Python312\\python.exe -m pip install --upgrade pip\n"
     ]
    }
   ],
   "source": [
    "!pip install --quiet langchain"
   ]
  },
  {
   "cell_type": "code",
   "execution_count": 2,
   "metadata": {},
   "outputs": [
    {
     "name": "stderr",
     "output_type": "stream",
     "text": [
      "\n",
      "[notice] A new release of pip is available: 24.0 -> 24.1.2\n",
      "[notice] To update, run: C:\\Users\\91987\\AppData\\Local\\Programs\\Python\\Python312\\python.exe -m pip install --upgrade pip\n"
     ]
    }
   ],
   "source": [
    "!pip install --quiet langchain-google-genai"
   ]
  },
  {
   "cell_type": "code",
   "execution_count": 3,
   "metadata": {},
   "outputs": [
    {
     "name": "stderr",
     "output_type": "stream",
     "text": [
      "\n",
      "[notice] A new release of pip is available: 24.0 -> 24.1.2\n",
      "[notice] To update, run: C:\\Users\\91987\\AppData\\Local\\Programs\\Python\\Python312\\python.exe -m pip install --upgrade pip\n"
     ]
    }
   ],
   "source": [
    "!pip install --quiet chromadb"
   ]
  },
  {
   "cell_type": "code",
   "execution_count": null,
   "metadata": {},
   "outputs": [],
   "source": [
    "pip install -U langchain-community"
   ]
  },
  {
   "cell_type": "code",
   "execution_count": 8,
   "metadata": {},
   "outputs": [],
   "source": [
    "from langchain import PromptTemplate\n",
    "from langchain import hub\n",
    "from langchain.docstore.document import Document\n",
    "from langchain.document_loaders import WebBaseLoader\n",
    "from langchain.schema import StrOutputParser\n",
    "from langchain.schema.prompt_template import format_document\n",
    "from langchain.schema.runnable import RunnablePassthrough\n",
    "from langchain.vectorstores import Chroma"
   ]
  },
  {
   "cell_type": "code",
   "execution_count": 9,
   "metadata": {},
   "outputs": [
    {
     "name": "stdout",
     "output_type": "stream",
     "text": [
      "Requirement already satisfied: beautifulsoup4 in c:\\users\\91987\\appdata\\local\\programs\\python\\python310\\lib\\site-packages (4.12.3)\n",
      "Requirement already satisfied: soupsieve>1.2 in c:\\users\\91987\\appdata\\local\\programs\\python\\python310\\lib\\site-packages (from beautifulsoup4) (2.5)\n",
      "Note: you may need to restart the kernel to use updated packages.\n"
     ]
    },
    {
     "name": "stderr",
     "output_type": "stream",
     "text": [
      "\n",
      "[notice] A new release of pip is available: 23.0.1 -> 24.1.2\n",
      "[notice] To update, run: python.exe -m pip install --upgrade pip\n"
     ]
    }
   ],
   "source": [
    "pip install beautifulsoup4"
   ]
  },
  {
   "cell_type": "code",
   "execution_count": 10,
   "metadata": {},
   "outputs": [
    {
     "name": "stdout",
     "output_type": "stream",
     "text": [
      "Requirement already satisfied: langchain-google-genai in c:\\users\\91987\\appdata\\local\\programs\\python\\python310\\lib\\site-packages (1.0.7)\n",
      "Requirement already satisfied: langchain-core<0.3,>=0.2.9 in c:\\users\\91987\\appdata\\local\\programs\\python\\python310\\lib\\site-packages (from langchain-google-genai) (0.2.22)\n",
      "Requirement already satisfied: google-generativeai<0.8.0,>=0.7.0 in c:\\users\\91987\\appdata\\local\\programs\\python\\python310\\lib\\site-packages (from langchain-google-genai) (0.7.1)\n",
      "Requirement already satisfied: tqdm in c:\\users\\91987\\appdata\\local\\programs\\python\\python310\\lib\\site-packages (from google-generativeai<0.8.0,>=0.7.0->langchain-google-genai) (4.66.4)\n",
      "Requirement already satisfied: typing-extensions in c:\\users\\91987\\appdata\\roaming\\python\\python310\\site-packages (from google-generativeai<0.8.0,>=0.7.0->langchain-google-genai) (4.12.2)\n",
      "Requirement already satisfied: google-auth>=2.15.0 in c:\\users\\91987\\appdata\\local\\programs\\python\\python310\\lib\\site-packages (from google-generativeai<0.8.0,>=0.7.0->langchain-google-genai) (2.31.0)\n",
      "Requirement already satisfied: pydantic in c:\\users\\91987\\appdata\\local\\programs\\python\\python310\\lib\\site-packages (from google-generativeai<0.8.0,>=0.7.0->langchain-google-genai) (2.8.2)\n",
      "Requirement already satisfied: google-ai-generativelanguage==0.6.6 in c:\\users\\91987\\appdata\\local\\programs\\python\\python310\\lib\\site-packages (from google-generativeai<0.8.0,>=0.7.0->langchain-google-genai) (0.6.6)\n",
      "Requirement already satisfied: google-api-python-client in c:\\users\\91987\\appdata\\local\\programs\\python\\python310\\lib\\site-packages (from google-generativeai<0.8.0,>=0.7.0->langchain-google-genai) (2.136.0)\n",
      "Requirement already satisfied: google-api-core in c:\\users\\91987\\appdata\\local\\programs\\python\\python310\\lib\\site-packages (from google-generativeai<0.8.0,>=0.7.0->langchain-google-genai) (2.19.1)\n",
      "Requirement already satisfied: protobuf in c:\\users\\91987\\appdata\\local\\programs\\python\\python310\\lib\\site-packages (from google-generativeai<0.8.0,>=0.7.0->langchain-google-genai) (4.25.3)\n",
      "Requirement already satisfied: proto-plus<2.0.0dev,>=1.22.3 in c:\\users\\91987\\appdata\\local\\programs\\python\\python310\\lib\\site-packages (from google-ai-generativelanguage==0.6.6->google-generativeai<0.8.0,>=0.7.0->langchain-google-genai) (1.24.0)\n",
      "Requirement already satisfied: jsonpatch<2.0,>=1.33 in c:\\users\\91987\\appdata\\local\\programs\\python\\python310\\lib\\site-packages (from langchain-core<0.3,>=0.2.9->langchain-google-genai) (1.33)\n",
      "Requirement already satisfied: langsmith<0.2.0,>=0.1.75 in c:\\users\\91987\\appdata\\local\\programs\\python\\python310\\lib\\site-packages (from langchain-core<0.3,>=0.2.9->langchain-google-genai) (0.1.84)\n",
      "Requirement already satisfied: tenacity!=8.4.0,<9.0.0,>=8.1.0 in c:\\users\\91987\\appdata\\local\\programs\\python\\python310\\lib\\site-packages (from langchain-core<0.3,>=0.2.9->langchain-google-genai) (8.5.0)\n",
      "Requirement already satisfied: packaging<25,>=23.2 in c:\\users\\91987\\appdata\\roaming\\python\\python310\\site-packages (from langchain-core<0.3,>=0.2.9->langchain-google-genai) (24.1)\n",
      "Requirement already satisfied: PyYAML>=5.3 in c:\\users\\91987\\appdata\\local\\programs\\python\\python310\\lib\\site-packages (from langchain-core<0.3,>=0.2.9->langchain-google-genai) (6.0.1)\n",
      "Requirement already satisfied: rsa<5,>=3.1.4 in c:\\users\\91987\\appdata\\local\\programs\\python\\python310\\lib\\site-packages (from google-auth>=2.15.0->google-generativeai<0.8.0,>=0.7.0->langchain-google-genai) (4.9)\n",
      "Requirement already satisfied: pyasn1-modules>=0.2.1 in c:\\users\\91987\\appdata\\local\\programs\\python\\python310\\lib\\site-packages (from google-auth>=2.15.0->google-generativeai<0.8.0,>=0.7.0->langchain-google-genai) (0.4.0)\n",
      "Requirement already satisfied: cachetools<6.0,>=2.0.0 in c:\\users\\91987\\appdata\\local\\programs\\python\\python310\\lib\\site-packages (from google-auth>=2.15.0->google-generativeai<0.8.0,>=0.7.0->langchain-google-genai) (5.3.3)\n",
      "Requirement already satisfied: jsonpointer>=1.9 in c:\\users\\91987\\appdata\\local\\programs\\python\\python310\\lib\\site-packages (from jsonpatch<2.0,>=1.33->langchain-core<0.3,>=0.2.9->langchain-google-genai) (3.0.0)\n",
      "Requirement already satisfied: orjson<4.0.0,>=3.9.14 in c:\\users\\91987\\appdata\\local\\programs\\python\\python310\\lib\\site-packages (from langsmith<0.2.0,>=0.1.75->langchain-core<0.3,>=0.2.9->langchain-google-genai) (3.10.6)\n",
      "Requirement already satisfied: requests<3,>=2 in c:\\users\\91987\\appdata\\local\\programs\\python\\python310\\lib\\site-packages (from langsmith<0.2.0,>=0.1.75->langchain-core<0.3,>=0.2.9->langchain-google-genai) (2.32.3)\n",
      "Requirement already satisfied: pydantic-core==2.20.1 in c:\\users\\91987\\appdata\\local\\programs\\python\\python310\\lib\\site-packages (from pydantic->google-generativeai<0.8.0,>=0.7.0->langchain-google-genai) (2.20.1)\n",
      "Requirement already satisfied: annotated-types>=0.4.0 in c:\\users\\91987\\appdata\\local\\programs\\python\\python310\\lib\\site-packages (from pydantic->google-generativeai<0.8.0,>=0.7.0->langchain-google-genai) (0.7.0)\n",
      "Requirement already satisfied: googleapis-common-protos<2.0.dev0,>=1.56.2 in c:\\users\\91987\\appdata\\local\\programs\\python\\python310\\lib\\site-packages (from google-api-core->google-generativeai<0.8.0,>=0.7.0->langchain-google-genai) (1.63.2)\n",
      "Requirement already satisfied: google-auth-httplib2<1.0.0,>=0.2.0 in c:\\users\\91987\\appdata\\local\\programs\\python\\python310\\lib\\site-packages (from google-api-python-client->google-generativeai<0.8.0,>=0.7.0->langchain-google-genai) (0.2.0)\n",
      "Requirement already satisfied: httplib2<1.dev0,>=0.19.0 in c:\\users\\91987\\appdata\\local\\programs\\python\\python310\\lib\\site-packages (from google-api-python-client->google-generativeai<0.8.0,>=0.7.0->langchain-google-genai) (0.22.0)\n",
      "Requirement already satisfied: uritemplate<5,>=3.0.1 in c:\\users\\91987\\appdata\\local\\programs\\python\\python310\\lib\\site-packages (from google-api-python-client->google-generativeai<0.8.0,>=0.7.0->langchain-google-genai) (4.1.1)\n",
      "Requirement already satisfied: colorama in c:\\users\\91987\\appdata\\roaming\\python\\python310\\site-packages (from tqdm->google-generativeai<0.8.0,>=0.7.0->langchain-google-genai) (0.4.6)\n",
      "Requirement already satisfied: grpcio<2.0dev,>=1.33.2 in c:\\users\\91987\\appdata\\local\\programs\\python\\python310\\lib\\site-packages (from google-api-core->google-generativeai<0.8.0,>=0.7.0->langchain-google-genai) (1.64.1)\n",
      "Requirement already satisfied: grpcio-status<2.0.dev0,>=1.33.2 in c:\\users\\91987\\appdata\\local\\programs\\python\\python310\\lib\\site-packages (from google-api-core->google-generativeai<0.8.0,>=0.7.0->langchain-google-genai) (1.62.2)\n",
      "Requirement already satisfied: pyparsing!=3.0.0,!=3.0.1,!=3.0.2,!=3.0.3,<4,>=2.4.2 in c:\\users\\91987\\appdata\\local\\programs\\python\\python310\\lib\\site-packages (from httplib2<1.dev0,>=0.19.0->google-api-python-client->google-generativeai<0.8.0,>=0.7.0->langchain-google-genai) (3.1.2)\n",
      "Requirement already satisfied: pyasn1<0.7.0,>=0.4.6 in c:\\users\\91987\\appdata\\local\\programs\\python\\python310\\lib\\site-packages (from pyasn1-modules>=0.2.1->google-auth>=2.15.0->google-generativeai<0.8.0,>=0.7.0->langchain-google-genai) (0.6.0)\n",
      "Requirement already satisfied: idna<4,>=2.5 in c:\\users\\91987\\appdata\\local\\programs\\python\\python310\\lib\\site-packages (from requests<3,>=2->langsmith<0.2.0,>=0.1.75->langchain-core<0.3,>=0.2.9->langchain-google-genai) (3.7)\n",
      "Requirement already satisfied: charset-normalizer<4,>=2 in c:\\users\\91987\\appdata\\local\\programs\\python\\python310\\lib\\site-packages (from requests<3,>=2->langsmith<0.2.0,>=0.1.75->langchain-core<0.3,>=0.2.9->langchain-google-genai) (3.3.2)\n",
      "Requirement already satisfied: urllib3<3,>=1.21.1 in c:\\users\\91987\\appdata\\local\\programs\\python\\python310\\lib\\site-packages (from requests<3,>=2->langsmith<0.2.0,>=0.1.75->langchain-core<0.3,>=0.2.9->langchain-google-genai) (2.2.2)\n",
      "Requirement already satisfied: certifi>=2017.4.17 in c:\\users\\91987\\appdata\\local\\programs\\python\\python310\\lib\\site-packages (from requests<3,>=2->langsmith<0.2.0,>=0.1.75->langchain-core<0.3,>=0.2.9->langchain-google-genai) (2024.7.4)\n",
      "Note: you may need to restart the kernel to use updated packages.\n"
     ]
    },
    {
     "name": "stderr",
     "output_type": "stream",
     "text": [
      "\n",
      "[notice] A new release of pip is available: 23.0.1 -> 24.1.2\n",
      "[notice] To update, run: python.exe -m pip install --upgrade pip\n"
     ]
    }
   ],
   "source": [
    "pip install -U langchain-google-genai"
   ]
  },
  {
   "cell_type": "code",
   "execution_count": 11,
   "metadata": {},
   "outputs": [
    {
     "name": "stdout",
     "output_type": "stream",
     "text": [
      "Requirement already satisfied: pandas in c:\\users\\91987\\appdata\\local\\programs\\python\\python312\\lib\\site-packages (2.2.2)\n",
      "Requirement already satisfied: numpy>=1.26.0 in c:\\users\\91987\\appdata\\local\\programs\\python\\python312\\lib\\site-packages (from pandas) (1.26.4)\n",
      "Requirement already satisfied: python-dateutil>=2.8.2 in c:\\users\\91987\\appdata\\local\\programs\\python\\python312\\lib\\site-packages (from pandas) (2.9.0.post0)\n",
      "Requirement already satisfied: pytz>=2020.1 in c:\\users\\91987\\appdata\\local\\programs\\python\\python312\\lib\\site-packages (from pandas) (2024.1)\n",
      "Requirement already satisfied: tzdata>=2022.7 in c:\\users\\91987\\appdata\\local\\programs\\python\\python312\\lib\\site-packages (from pandas) (2024.1)\n",
      "Requirement already satisfied: six>=1.5 in c:\\users\\91987\\appdata\\local\\programs\\python\\python312\\lib\\site-packages (from python-dateutil>=2.8.2->pandas) (1.16.0)\n"
     ]
    },
    {
     "name": "stderr",
     "output_type": "stream",
     "text": [
      "\n",
      "[notice] A new release of pip is available: 24.0 -> 24.1.2\n",
      "[notice] To update, run: C:\\Users\\91987\\AppData\\Local\\Programs\\Python\\Python312\\python.exe -m pip install --upgrade pip\n"
     ]
    }
   ],
   "source": [
    "!pip install pandas\n"
   ]
  },
  {
   "cell_type": "code",
   "execution_count": 13,
   "metadata": {},
   "outputs": [],
   "source": [
    "from langchain_google_genai import GoogleGenerativeAIEmbeddings\n",
    "#Set the API Key\n",
    "gemini_embeddings = GoogleGenerativeAIEmbeddings(model=\"models/embedding-001\",google_api_key='')"
   ]
  },
  {
   "cell_type": "code",
   "execution_count": 14,
   "metadata": {},
   "outputs": [
    {
     "name": "stdout",
     "output_type": "stream",
     "text": [
      "Requirement already satisfied: chromadb in c:\\users\\91987\\appdata\\local\\programs\\python\\python310\\lib\\site-packages (0.5.3)\n",
      "Requirement already satisfied: pydantic>=1.9 in c:\\users\\91987\\appdata\\local\\programs\\python\\python310\\lib\\site-packages (from chromadb) (2.8.2)\n",
      "Requirement already satisfied: opentelemetry-api>=1.2.0 in c:\\users\\91987\\appdata\\local\\programs\\python\\python310\\lib\\site-packages (from chromadb) (1.25.0)\n",
      "Requirement already satisfied: PyYAML>=6.0.0 in c:\\users\\91987\\appdata\\local\\programs\\python\\python310\\lib\\site-packages (from chromadb) (6.0.1)\n",
      "Requirement already satisfied: numpy<2.0.0,>=1.22.5 in c:\\users\\91987\\appdata\\local\\programs\\python\\python310\\lib\\site-packages (from chromadb) (1.26.4)\n",
      "Requirement already satisfied: fastapi>=0.95.2 in c:\\users\\91987\\appdata\\local\\programs\\python\\python310\\lib\\site-packages (from chromadb) (0.111.0)\n",
      "Requirement already satisfied: bcrypt>=4.0.1 in c:\\users\\91987\\appdata\\local\\programs\\python\\python310\\lib\\site-packages (from chromadb) (4.1.3)\n",
      "Requirement already satisfied: httpx>=0.27.0 in c:\\users\\91987\\appdata\\local\\programs\\python\\python310\\lib\\site-packages (from chromadb) (0.27.0)\n",
      "Requirement already satisfied: overrides>=7.3.1 in c:\\users\\91987\\appdata\\local\\programs\\python\\python310\\lib\\site-packages (from chromadb) (7.7.0)\n",
      "Requirement already satisfied: opentelemetry-exporter-otlp-proto-grpc>=1.2.0 in c:\\users\\91987\\appdata\\local\\programs\\python\\python310\\lib\\site-packages (from chromadb) (1.25.0)\n",
      "Requirement already satisfied: importlib-resources in c:\\users\\91987\\appdata\\local\\programs\\python\\python310\\lib\\site-packages (from chromadb) (6.4.0)\n",
      "Requirement already satisfied: opentelemetry-instrumentation-fastapi>=0.41b0 in c:\\users\\91987\\appdata\\local\\programs\\python\\python310\\lib\\site-packages (from chromadb) (0.46b0)\n",
      "Requirement already satisfied: chroma-hnswlib==0.7.3 in c:\\users\\91987\\appdata\\local\\programs\\python\\python310\\lib\\site-packages (from chromadb) (0.7.3)\n",
      "Requirement already satisfied: uvicorn[standard]>=0.18.3 in c:\\users\\91987\\appdata\\local\\programs\\python\\python310\\lib\\site-packages (from chromadb) (0.30.1)\n",
      "Requirement already satisfied: pypika>=0.48.9 in c:\\users\\91987\\appdata\\local\\programs\\python\\python310\\lib\\site-packages (from chromadb) (0.48.9)\n",
      "Requirement already satisfied: kubernetes>=28.1.0 in c:\\users\\91987\\appdata\\local\\programs\\python\\python310\\lib\\site-packages (from chromadb) (30.1.0)\n",
      "Requirement already satisfied: posthog>=2.4.0 in c:\\users\\91987\\appdata\\local\\programs\\python\\python310\\lib\\site-packages (from chromadb) (3.5.0)\n",
      "Requirement already satisfied: build>=1.0.3 in c:\\users\\91987\\appdata\\local\\programs\\python\\python310\\lib\\site-packages (from chromadb) (1.2.1)\n",
      "Requirement already satisfied: tqdm>=4.65.0 in c:\\users\\91987\\appdata\\local\\programs\\python\\python310\\lib\\site-packages (from chromadb) (4.66.4)\n",
      "Requirement already satisfied: mmh3>=4.0.1 in c:\\users\\91987\\appdata\\local\\programs\\python\\python310\\lib\\site-packages (from chromadb) (4.1.0)\n",
      "Requirement already satisfied: tenacity>=8.2.3 in c:\\users\\91987\\appdata\\local\\programs\\python\\python310\\lib\\site-packages (from chromadb) (8.5.0)\n",
      "Requirement already satisfied: requests>=2.28 in c:\\users\\91987\\appdata\\local\\programs\\python\\python310\\lib\\site-packages (from chromadb) (2.32.3)\n",
      "Requirement already satisfied: tokenizers>=0.13.2 in c:\\users\\91987\\appdata\\local\\programs\\python\\python310\\lib\\site-packages (from chromadb) (0.19.1)\n",
      "Requirement already satisfied: onnxruntime>=1.14.1 in c:\\users\\91987\\appdata\\local\\programs\\python\\python310\\lib\\site-packages (from chromadb) (1.18.1)\n",
      "Requirement already satisfied: typing-extensions>=4.5.0 in c:\\users\\91987\\appdata\\roaming\\python\\python310\\site-packages (from chromadb) (4.12.2)\n",
      "Requirement already satisfied: orjson>=3.9.12 in c:\\users\\91987\\appdata\\local\\programs\\python\\python310\\lib\\site-packages (from chromadb) (3.10.6)\n",
      "Requirement already satisfied: typer>=0.9.0 in c:\\users\\91987\\appdata\\local\\programs\\python\\python310\\lib\\site-packages (from chromadb) (0.12.3)\n",
      "Requirement already satisfied: opentelemetry-sdk>=1.2.0 in c:\\users\\91987\\appdata\\local\\programs\\python\\python310\\lib\\site-packages (from chromadb) (1.25.0)\n",
      "Requirement already satisfied: grpcio>=1.58.0 in c:\\users\\91987\\appdata\\local\\programs\\python\\python310\\lib\\site-packages (from chromadb) (1.64.1)\n",
      "Requirement already satisfied: tomli>=1.1.0 in c:\\users\\91987\\appdata\\local\\programs\\python\\python310\\lib\\site-packages (from build>=1.0.3->chromadb) (2.0.1)\n",
      "Requirement already satisfied: pyproject_hooks in c:\\users\\91987\\appdata\\local\\programs\\python\\python310\\lib\\site-packages (from build>=1.0.3->chromadb) (1.1.0)\n",
      "Requirement already satisfied: packaging>=19.1 in c:\\users\\91987\\appdata\\roaming\\python\\python310\\site-packages (from build>=1.0.3->chromadb) (24.1)\n",
      "Requirement already satisfied: colorama in c:\\users\\91987\\appdata\\roaming\\python\\python310\\site-packages (from build>=1.0.3->chromadb) (0.4.6)\n",
      "Requirement already satisfied: email_validator>=2.0.0 in c:\\users\\91987\\appdata\\local\\programs\\python\\python310\\lib\\site-packages (from fastapi>=0.95.2->chromadb) (2.2.0)\n",
      "Requirement already satisfied: starlette<0.38.0,>=0.37.2 in c:\\users\\91987\\appdata\\local\\programs\\python\\python310\\lib\\site-packages (from fastapi>=0.95.2->chromadb) (0.37.2)\n",
      "Requirement already satisfied: python-multipart>=0.0.7 in c:\\users\\91987\\appdata\\local\\programs\\python\\python310\\lib\\site-packages (from fastapi>=0.95.2->chromadb) (0.0.9)\n",
      "Requirement already satisfied: fastapi-cli>=0.0.2 in c:\\users\\91987\\appdata\\local\\programs\\python\\python310\\lib\\site-packages (from fastapi>=0.95.2->chromadb) (0.0.4)\n",
      "Requirement already satisfied: jinja2>=2.11.2 in c:\\users\\91987\\appdata\\local\\programs\\python\\python310\\lib\\site-packages (from fastapi>=0.95.2->chromadb) (3.1.4)\n",
      "Requirement already satisfied: ujson!=4.0.2,!=4.1.0,!=4.2.0,!=4.3.0,!=5.0.0,!=5.1.0,>=4.0.1 in c:\\users\\91987\\appdata\\local\\programs\\python\\python310\\lib\\site-packages (from fastapi>=0.95.2->chromadb) (5.10.0)\n",
      "Requirement already satisfied: idna in c:\\users\\91987\\appdata\\local\\programs\\python\\python310\\lib\\site-packages (from httpx>=0.27.0->chromadb) (3.7)\n",
      "Requirement already satisfied: sniffio in c:\\users\\91987\\appdata\\local\\programs\\python\\python310\\lib\\site-packages (from httpx>=0.27.0->chromadb) (1.3.1)\n",
      "Requirement already satisfied: httpcore==1.* in c:\\users\\91987\\appdata\\local\\programs\\python\\python310\\lib\\site-packages (from httpx>=0.27.0->chromadb) (1.0.5)\n",
      "Requirement already satisfied: anyio in c:\\users\\91987\\appdata\\local\\programs\\python\\python310\\lib\\site-packages (from httpx>=0.27.0->chromadb) (4.4.0)\n",
      "Requirement already satisfied: certifi in c:\\users\\91987\\appdata\\local\\programs\\python\\python310\\lib\\site-packages (from httpx>=0.27.0->chromadb) (2024.7.4)\n",
      "Requirement already satisfied: h11<0.15,>=0.13 in c:\\users\\91987\\appdata\\local\\programs\\python\\python310\\lib\\site-packages (from httpcore==1.*->httpx>=0.27.0->chromadb) (0.14.0)\n",
      "Requirement already satisfied: six>=1.9.0 in c:\\users\\91987\\appdata\\roaming\\python\\python310\\site-packages (from kubernetes>=28.1.0->chromadb) (1.16.0)\n",
      "Requirement already satisfied: requests-oauthlib in c:\\users\\91987\\appdata\\local\\programs\\python\\python310\\lib\\site-packages (from kubernetes>=28.1.0->chromadb) (2.0.0)\n",
      "Requirement already satisfied: websocket-client!=0.40.0,!=0.41.*,!=0.42.*,>=0.32.0 in c:\\users\\91987\\appdata\\local\\programs\\python\\python310\\lib\\site-packages (from kubernetes>=28.1.0->chromadb) (1.8.0)\n",
      "Requirement already satisfied: google-auth>=1.0.1 in c:\\users\\91987\\appdata\\local\\programs\\python\\python310\\lib\\site-packages (from kubernetes>=28.1.0->chromadb) (2.31.0)\n",
      "Requirement already satisfied: python-dateutil>=2.5.3 in c:\\users\\91987\\appdata\\roaming\\python\\python310\\site-packages (from kubernetes>=28.1.0->chromadb) (2.9.0.post0)\n",
      "Requirement already satisfied: urllib3>=1.24.2 in c:\\users\\91987\\appdata\\local\\programs\\python\\python310\\lib\\site-packages (from kubernetes>=28.1.0->chromadb) (2.2.2)\n",
      "Requirement already satisfied: oauthlib>=3.2.2 in c:\\users\\91987\\appdata\\local\\programs\\python\\python310\\lib\\site-packages (from kubernetes>=28.1.0->chromadb) (3.2.2)\n",
      "Requirement already satisfied: coloredlogs in c:\\users\\91987\\appdata\\local\\programs\\python\\python310\\lib\\site-packages (from onnxruntime>=1.14.1->chromadb) (15.0.1)\n",
      "Requirement already satisfied: protobuf in c:\\users\\91987\\appdata\\local\\programs\\python\\python310\\lib\\site-packages (from onnxruntime>=1.14.1->chromadb) (4.25.3)\n",
      "Requirement already satisfied: flatbuffers in c:\\users\\91987\\appdata\\local\\programs\\python\\python310\\lib\\site-packages (from onnxruntime>=1.14.1->chromadb) (24.3.25)\n",
      "Requirement already satisfied: sympy in c:\\users\\91987\\appdata\\local\\programs\\python\\python310\\lib\\site-packages (from onnxruntime>=1.14.1->chromadb) (1.12.1)\n",
      "Requirement already satisfied: importlib-metadata<=7.1,>=6.0 in c:\\users\\91987\\appdata\\local\\programs\\python\\python310\\lib\\site-packages (from opentelemetry-api>=1.2.0->chromadb) (7.1.0)\n",
      "Requirement already satisfied: deprecated>=1.2.6 in c:\\users\\91987\\appdata\\local\\programs\\python\\python310\\lib\\site-packages (from opentelemetry-api>=1.2.0->chromadb) (1.2.14)\n",
      "Requirement already satisfied: opentelemetry-proto==1.25.0 in c:\\users\\91987\\appdata\\local\\programs\\python\\python310\\lib\\site-packages (from opentelemetry-exporter-otlp-proto-grpc>=1.2.0->chromadb) (1.25.0)\n",
      "Requirement already satisfied: googleapis-common-protos~=1.52 in c:\\users\\91987\\appdata\\local\\programs\\python\\python310\\lib\\site-packages (from opentelemetry-exporter-otlp-proto-grpc>=1.2.0->chromadb) (1.63.2)\n",
      "Requirement already satisfied: opentelemetry-exporter-otlp-proto-common==1.25.0 in c:\\users\\91987\\appdata\\local\\programs\\python\\python310\\lib\\site-packages (from opentelemetry-exporter-otlp-proto-grpc>=1.2.0->chromadb) (1.25.0)\n",
      "Requirement already satisfied: opentelemetry-instrumentation==0.46b0 in c:\\users\\91987\\appdata\\local\\programs\\python\\python310\\lib\\site-packages (from opentelemetry-instrumentation-fastapi>=0.41b0->chromadb) (0.46b0)\n",
      "Requirement already satisfied: opentelemetry-instrumentation-asgi==0.46b0 in c:\\users\\91987\\appdata\\local\\programs\\python\\python310\\lib\\site-packages (from opentelemetry-instrumentation-fastapi>=0.41b0->chromadb) (0.46b0)\n",
      "Requirement already satisfied: opentelemetry-semantic-conventions==0.46b0 in c:\\users\\91987\\appdata\\local\\programs\\python\\python310\\lib\\site-packages (from opentelemetry-instrumentation-fastapi>=0.41b0->chromadb) (0.46b0)\n",
      "Requirement already satisfied: opentelemetry-util-http==0.46b0 in c:\\users\\91987\\appdata\\local\\programs\\python\\python310\\lib\\site-packages (from opentelemetry-instrumentation-fastapi>=0.41b0->chromadb) (0.46b0)\n",
      "Requirement already satisfied: setuptools>=16.0 in c:\\users\\91987\\appdata\\local\\programs\\python\\python310\\lib\\site-packages (from opentelemetry-instrumentation==0.46b0->opentelemetry-instrumentation-fastapi>=0.41b0->chromadb) (65.5.0)\n",
      "Requirement already satisfied: wrapt<2.0.0,>=1.0.0 in c:\\users\\91987\\appdata\\local\\programs\\python\\python310\\lib\\site-packages (from opentelemetry-instrumentation==0.46b0->opentelemetry-instrumentation-fastapi>=0.41b0->chromadb) (1.16.0)\n",
      "Requirement already satisfied: asgiref~=3.0 in c:\\users\\91987\\appdata\\local\\programs\\python\\python310\\lib\\site-packages (from opentelemetry-instrumentation-asgi==0.46b0->opentelemetry-instrumentation-fastapi>=0.41b0->chromadb) (3.8.1)\n",
      "Requirement already satisfied: monotonic>=1.5 in c:\\users\\91987\\appdata\\local\\programs\\python\\python310\\lib\\site-packages (from posthog>=2.4.0->chromadb) (1.6)\n",
      "Requirement already satisfied: backoff>=1.10.0 in c:\\users\\91987\\appdata\\local\\programs\\python\\python310\\lib\\site-packages (from posthog>=2.4.0->chromadb) (2.2.1)\n",
      "Requirement already satisfied: annotated-types>=0.4.0 in c:\\users\\91987\\appdata\\local\\programs\\python\\python310\\lib\\site-packages (from pydantic>=1.9->chromadb) (0.7.0)\n",
      "Requirement already satisfied: pydantic-core==2.20.1 in c:\\users\\91987\\appdata\\local\\programs\\python\\python310\\lib\\site-packages (from pydantic>=1.9->chromadb) (2.20.1)\n",
      "Requirement already satisfied: charset-normalizer<4,>=2 in c:\\users\\91987\\appdata\\local\\programs\\python\\python310\\lib\\site-packages (from requests>=2.28->chromadb) (3.3.2)\n",
      "Requirement already satisfied: huggingface-hub<1.0,>=0.16.4 in c:\\users\\91987\\appdata\\local\\programs\\python\\python310\\lib\\site-packages (from tokenizers>=0.13.2->chromadb) (0.23.4)\n",
      "Requirement already satisfied: shellingham>=1.3.0 in c:\\users\\91987\\appdata\\local\\programs\\python\\python310\\lib\\site-packages (from typer>=0.9.0->chromadb) (1.5.4)\n",
      "Requirement already satisfied: rich>=10.11.0 in c:\\users\\91987\\appdata\\local\\programs\\python\\python310\\lib\\site-packages (from typer>=0.9.0->chromadb) (13.7.1)\n",
      "Requirement already satisfied: click>=8.0.0 in c:\\users\\91987\\appdata\\local\\programs\\python\\python310\\lib\\site-packages (from typer>=0.9.0->chromadb) (8.1.7)\n",
      "Requirement already satisfied: websockets>=10.4 in c:\\users\\91987\\appdata\\local\\programs\\python\\python310\\lib\\site-packages (from uvicorn[standard]>=0.18.3->chromadb) (12.0)\n",
      "Requirement already satisfied: watchfiles>=0.13 in c:\\users\\91987\\appdata\\local\\programs\\python\\python310\\lib\\site-packages (from uvicorn[standard]>=0.18.3->chromadb) (0.22.0)\n",
      "Requirement already satisfied: python-dotenv>=0.13 in c:\\users\\91987\\appdata\\local\\programs\\python\\python310\\lib\\site-packages (from uvicorn[standard]>=0.18.3->chromadb) (1.0.1)\n",
      "Requirement already satisfied: httptools>=0.5.0 in c:\\users\\91987\\appdata\\local\\programs\\python\\python310\\lib\\site-packages (from uvicorn[standard]>=0.18.3->chromadb) (0.6.1)\n",
      "Requirement already satisfied: dnspython>=2.0.0 in c:\\users\\91987\\appdata\\local\\programs\\python\\python310\\lib\\site-packages (from email_validator>=2.0.0->fastapi>=0.95.2->chromadb) (2.6.1)\n",
      "Requirement already satisfied: pyasn1-modules>=0.2.1 in c:\\users\\91987\\appdata\\local\\programs\\python\\python310\\lib\\site-packages (from google-auth>=1.0.1->kubernetes>=28.1.0->chromadb) (0.4.0)\n",
      "Requirement already satisfied: rsa<5,>=3.1.4 in c:\\users\\91987\\appdata\\local\\programs\\python\\python310\\lib\\site-packages (from google-auth>=1.0.1->kubernetes>=28.1.0->chromadb) (4.9)\n",
      "Requirement already satisfied: cachetools<6.0,>=2.0.0 in c:\\users\\91987\\appdata\\local\\programs\\python\\python310\\lib\\site-packages (from google-auth>=1.0.1->kubernetes>=28.1.0->chromadb) (5.3.3)\n",
      "Requirement already satisfied: fsspec>=2023.5.0 in c:\\users\\91987\\appdata\\local\\programs\\python\\python310\\lib\\site-packages (from huggingface-hub<1.0,>=0.16.4->tokenizers>=0.13.2->chromadb) (2024.6.1)\n",
      "Requirement already satisfied: filelock in c:\\users\\91987\\appdata\\local\\programs\\python\\python310\\lib\\site-packages (from huggingface-hub<1.0,>=0.16.4->tokenizers>=0.13.2->chromadb) (3.15.4)\n",
      "Requirement already satisfied: zipp>=0.5 in c:\\users\\91987\\appdata\\local\\programs\\python\\python310\\lib\\site-packages (from importlib-metadata<=7.1,>=6.0->opentelemetry-api>=1.2.0->chromadb) (3.19.2)\n",
      "Requirement already satisfied: MarkupSafe>=2.0 in c:\\users\\91987\\appdata\\local\\programs\\python\\python310\\lib\\site-packages (from jinja2>=2.11.2->fastapi>=0.95.2->chromadb) (2.1.5)\n",
      "Requirement already satisfied: pygments<3.0.0,>=2.13.0 in c:\\users\\91987\\appdata\\roaming\\python\\python310\\site-packages (from rich>=10.11.0->typer>=0.9.0->chromadb) (2.18.0)\n",
      "Requirement already satisfied: markdown-it-py>=2.2.0 in c:\\users\\91987\\appdata\\local\\programs\\python\\python310\\lib\\site-packages (from rich>=10.11.0->typer>=0.9.0->chromadb) (3.0.0)\n",
      "Requirement already satisfied: exceptiongroup>=1.0.2 in c:\\users\\91987\\appdata\\roaming\\python\\python310\\site-packages (from anyio->httpx>=0.27.0->chromadb) (1.2.1)\n",
      "Requirement already satisfied: humanfriendly>=9.1 in c:\\users\\91987\\appdata\\local\\programs\\python\\python310\\lib\\site-packages (from coloredlogs->onnxruntime>=1.14.1->chromadb) (10.0)\n",
      "Requirement already satisfied: mpmath<1.4.0,>=1.1.0 in c:\\users\\91987\\appdata\\local\\programs\\python\\python310\\lib\\site-packages (from sympy->onnxruntime>=1.14.1->chromadb) (1.3.0)\n",
      "Requirement already satisfied: pyreadline3 in c:\\users\\91987\\appdata\\local\\programs\\python\\python310\\lib\\site-packages (from humanfriendly>=9.1->coloredlogs->onnxruntime>=1.14.1->chromadb) (3.4.1)\n",
      "Requirement already satisfied: mdurl~=0.1 in c:\\users\\91987\\appdata\\local\\programs\\python\\python310\\lib\\site-packages (from markdown-it-py>=2.2.0->rich>=10.11.0->typer>=0.9.0->chromadb) (0.1.2)\n",
      "Requirement already satisfied: pyasn1<0.7.0,>=0.4.6 in c:\\users\\91987\\appdata\\local\\programs\\python\\python310\\lib\\site-packages (from pyasn1-modules>=0.2.1->google-auth>=1.0.1->kubernetes>=28.1.0->chromadb) (0.6.0)\n",
      "Note: you may need to restart the kernel to use updated packages.\n"
     ]
    },
    {
     "name": "stderr",
     "output_type": "stream",
     "text": [
      "\n",
      "[notice] A new release of pip is available: 23.0.1 -> 24.1.2\n",
      "[notice] To update, run: python.exe -m pip install --upgrade pip\n"
     ]
    }
   ],
   "source": [
    "pip install chromadb"
   ]
  },
  {
   "cell_type": "code",
   "execution_count": 16,
   "metadata": {},
   "outputs": [
    {
     "name": "stdout",
     "output_type": "stream",
     "text": [
      "Note: you may need to restart the kernel to use updated packages.\n"
     ]
    },
    {
     "name": "stderr",
     "output_type": "stream",
     "text": [
      "\n",
      "[notice] A new release of pip is available: 23.0.1 -> 24.1.2\n",
      "[notice] To update, run: python.exe -m pip install --upgrade pip\n"
     ]
    }
   ],
   "source": [
    "%pip install --upgrade --quiet  youtube_search"
   ]
  },
  {
   "cell_type": "code",
   "execution_count": 17,
   "metadata": {},
   "outputs": [],
   "source": [
    "from langchain_community.tools import YouTubeSearchTool"
   ]
  },
  {
   "cell_type": "code",
   "execution_count": 18,
   "metadata": {},
   "outputs": [],
   "source": [
    "tool = YouTubeSearchTool()"
   ]
  },
  {
   "cell_type": "code",
   "execution_count": 1,
   "metadata": {},
   "outputs": [
    {
     "ename": "NameError",
     "evalue": "name 'tool' is not defined",
     "output_type": "error",
     "traceback": [
      "\u001b[1;31m---------------------------------------------------------------------------\u001b[0m",
      "\u001b[1;31mNameError\u001b[0m                                 Traceback (most recent call last)",
      "Cell \u001b[1;32mIn[1], line 1\u001b[0m\n\u001b[1;32m----> 1\u001b[0m \u001b[43mtool\u001b[49m\u001b[38;5;241m.\u001b[39mrun(\u001b[38;5;124m\"\u001b[39m\u001b[38;5;124mNext js tutorial \u001b[39m\u001b[38;5;124m\"\u001b[39m)\n",
      "\u001b[1;31mNameError\u001b[0m: name 'tool' is not defined"
     ]
    }
   ],
   "source": [
    "#Search yotuube videos take input and pass it to the tool\n",
    "tool.run(\"Next js tutorial \")"
   ]
  },
  {
   "cell_type": "code",
   "execution_count": 41,
   "metadata": {},
   "outputs": [],
   "source": [
    "\n",
    "# Run this cell and paste the API key in the prompt\n",
    "import os\n",
    "import getpass\n",
    "\n",
    "os.environ['GOOGLE_API_KEY'] = getpass.getpass('Gemini API Key:')\n",
    "     "
   ]
  },
  {
   "cell_type": "code",
   "execution_count": 23,
   "metadata": {},
   "outputs": [],
   "source": [
    "from langchain_community.document_loaders import YoutubeLoader"
   ]
  },
  {
   "cell_type": "markdown",
   "metadata": {},
   "source": [
    "Fetching Youtube Transcript"
   ]
  },
  {
   "cell_type": "code",
   "execution_count": 25,
   "metadata": {},
   "outputs": [
    {
     "name": "stdout",
     "output_type": "stream",
     "text": [
      "Note: you may need to restart the kernel to use updated packages.\n"
     ]
    },
    {
     "name": "stderr",
     "output_type": "stream",
     "text": [
      "\n",
      "[notice] A new release of pip is available: 23.0.1 -> 24.1.2\n",
      "[notice] To update, run: python.exe -m pip install --upgrade pip\n"
     ]
    }
   ],
   "source": [
    "%pip install --upgrade --quiet  youtube-transcript-api"
   ]
  },
  {
   "cell_type": "code",
   "execution_count": 28,
   "metadata": {},
   "outputs": [],
   "source": [
    "#Pass your youtube url to the YoutubeLoader\n",
    "loader = YoutubeLoader.from_youtube_url(\n",
    "    \"https://www.youtube.com/watch?v=EZdGmiPVvfM\", add_video_info=False\n",
    ")"
   ]
  },
  {
   "cell_type": "code",
   "execution_count": 38,
   "metadata": {},
   "outputs": [
    {
     "name": "stdout",
     "output_type": "stream",
     "text": [
      "[Document(metadata={'source': 'EZdGmiPVvfM'}, page_content=\"if you resent studying and school is like the bane of your existence you are so privileged I am not going to sugarcoat this this might be a little brutal but you need to hear this and I am also someone who did not enjoy studying I don't like reading textbooks I don't like doing homework I don't like doing blah blah blah right I just want to sit all day and sing or dance or play basketball or play tennis right all the channels out there like this is how you make studying fun here's how to get motivated to study all these tips just trying to patch up the symptoms of what you and many other students feel when it comes to school most of all I'm tired of you thinking those videos are what you need that's why people keep making those videos including me because I'm pressured to make things that people want to watch but those motivation and make studying fun videos is is what you want not what you need making studying fun and using these shallow tips to improve your motivation is not going to make you better in school not to the potential you could be and not to the happiness that you could have when going about your daily lives that's also why my study videos stand out they go deeper I try to address the root problems and not just patch up the symptoms with shallow tips these videos these new tools about how to make studying fun it's honestly like a Band-Aid for the larger problem the larger problem is social media and the values that our current Society has because Good Times create weak men weak men create Hard Times Hard Times create strong men strong men create good times right now we're in the good times weak men part where kids these days are like I don't want to study ew ew ew please you are so lucky to study and I'm not saying this as like a um strict or nerdy like mother like figure right I'm saying this as someone who is in your shoes like also really likes social media also enjoys many other things to do with my time I was a student not too long ago and how I'm explaining things now is how I felt when I was a student and that is the reason why I could be such a good student that's why I could be a straight A student and get into one of the hardest universities one of the most prestigious universities in the world while not being a book nerd or other stereotypical people with no lives right I can do that while still being smart having soft skills having Street Smart Hearts you know just honestly like do you think I'm weird okay maybe I'm weird but do you think I look like a nerd okay like I don't think I'm the stereotypical nerd if I do say so myself I digress the point is don't be resistant to what I'm going to say in this video just because you're like ew like why is she like yelling at us or why is she being so brutal because I'm so I'm so tired of I'm so like sad and like I'm was like jaded almost sometimes and again I do want to say that this is not your fault because you were never really taught how you should think about things to make yourself happier and better in school by your own choice you were never really taught how to have that intrinsic motivation it's not your fault that all your peers have social media so you must have social media you see them scrolling so you're like I should scroll too because as humans we don't want to be ostracized right that's like our survival mechanism we don't want to be different from other people and we want to follow what we see because that's what we think will be safe right so I don't want this to sound like I'm blaming you I just want to tell you the hardcore truth that you need to know I say all this because I care tough love is one of the truest forms of Love had to give that caveat a disclaimer because everyone's so peacey and nice these days can't say anything truthful so education studying my grandfather is 90 years old and he currently is in the hospital uh cancer I'm very sad about that of course I'm going to stop talking about it so I don't tear up but anyway last time I went to China a month ago I wanted to hear his like life story and he talked about how how he came from an extremely poor family in China there were farmers he came from a farmer family and farmers are the lowest of the low statuses the that social class wherever you go let alone China his father passed away in his 20s and his mother passed away not too long after that he said that actually this became a blessing why you'll see because he got taken in by one of his uncles and his uncle brought him to this place outside of farming so if these chain of events did not happen he would have been a farmer all his life he was so happy like look at my big ears big ears are a sign of Good Fortune that's why I was lucky enough to not be a farmer and he he kept reiterating how he was in this position where he could see no way out of it because as a farmer like you don't have the opportunity to try and get yourself into a different position unless it's like a family member in his case so he was extremely lucky his uncle um gave him the opportunity to level up literally from that social class so when he became an adult he worked as a gan which is the second lowest level the second lowest social class he he still didn't have an education he always says oh I'm not educated I I I not I'm not good about this I'm not good at this he worked as a um gin this manual labor work level don't know how to say it in English but he had to with his wife be doing jobs like working in the factory and doing the same motion of putting things together by hand over and over again like can you imagine how grueling that is like that manual labor his I don't remember all of the specifics but uh my grandma my grandfather's wife would wake up early like every morning 5:00 a.m. tend to the kids and then go out to the street to pick up garbage and to go to the supermarket and try and pick out the rotten parts of vegetables because those you can sell for a few cents a few cents and at the time my grandparents kids my dad and his siblings they were living in this single room round Dome Hut five people two parents three kids living living in this tiny Hut I don't remember for how many years but they could have new clothes maybe once a year but that was actually already better than a lot of families at that time a lot of families at that time they only had one pair of pants within all the members of that family if you wanted to go out you had to wait until everyone else in your family was home first so you could take the pants and go outside if you didn't have the pants you would have to sit at home pantsless true story anyway my dad the eldest child worked incredibly hard in school incredibly hard and my grandparents knew of my dad's dedication to education seeing this as their opportunity to get out of their hard circumstances or to at least improve them so they invested so much time and energy into really boosting my dad's um my dad's academics food was scarce so they would starve themselves at meals trying to give more food to my dad so he could so he can learn better and so his brain had the nutritions he needs they took out this once they moved into a real apartment they had this little room no bigger than a closet behind a TV and that little closet space was where my dad did most of his studying he spent hours and hours hundreds of days in there studying away my dad did well he he got into college and he went to grad school married my mom and he was so liked by the professors that they gave him they gave him this offer to travel to the US wow that's incredible it's every Chinese person's dream to go to us to the US where there are more resources there's more space there's more money there's more opportunities because in China there's a reason why people have the scarcity mindset we say all the time oh don't have a scarcity mindset as if it's just a choice but it's because resources are scarce there's a lot of people simply it that's why people push each other on the streets that's why they have to be rough you have to do what you have to do in order to survive you never should say oh why is that country so mean oh why do they act like that well maybe it's because they have different circumstances that's how they need to live and survive so of course um well I'm in the US now so you know what happened but my mom and dad went to the US but it wasn't easy uh my grandparents had to rack up all their life savings about $1,000 between the two of them between my parents with that money in their pockets they headed to the US and started to try and build the American dream my dad worked worked as a postdoc and my mom it was really hard for her to get a job because she was a foreigner still right and her English was not good so she started working in a factory a factory where when she took the night shifts she could earn an extra I think 50 cents an hour that's what she did she worked night shifts at a factory again doing like grueling manual work for an extra 50 cents an hour later on she leveled up to work at Taco Bell and finally she with her education and her skills was able to get an engineering job so then my dad and my mom saved they saved brutally that's why a lot of immigrant agan parents are so Frugal families are frugal am quite Frugal it's because you have to you have to so my parents worked hard even though they just didn't belong the culture in the US and China are so different so it's not only the language barrier but imagine you being somewhere where even body language and like culture and interests you cannot relate to is very difficult it's very diffult so I really really appreciate my parents for doing that for for toughening through that situation for so so many years pain and difficulty breeds strength my parents are incredibly strong and resilient and that's what developed that in me too that's also why I think a lot of um like people in China they're not afraid of pain they're not afraid of putting in the hard work because they know what that will get them they've seen what happens to people who don't try even to people who do try they still might have terrible circumstances so they know they have to try they have to take any opportunity that comes their way as soon as they earned the $1,000 to $2,000 they sent it back home to China to return to my grandparents my sister and I we grew up in this middle class family and I think that knowing this kind of struggle even though I didn't know the details I do today this instilled this wide perspective of what we're actually doing here even if this is not explicitly thought of every day like oh we're doing this because my parents struggled but it builds something intrinsic deeper like hard work is a value you know it's like being kind is a value you don't have to think about being kind we didn't have to think about hard work we didn't have to be like oh I think school is important explicitly every day we just knew because what else would you do with your effort I want to clarify that what I mean by education now is not just books and grades like it was back in my dad's day in China what education is now is growing your skill sets that are going to be of value to yourself that includes self-study that includes using the wealth of resources at your fingertips online there's no excuse to be struggling in this subject or oh I don't know computer science I wish I could learn it you need to tap out of the free resources that you currently have available to you how do you know what you can learn if you don't even try first the point I'm trying to make about education is that typically a lot of students are pushing aare their studies in favor of things like social media and video games but at the end of the day as you see in the stories and in what I'm trying to explain is that you should be spending your time wisely no matter what it's on you need to be converting that into something that helps you and not squandering this valuable time and the opportunities that you have if you're a kid and you have these things laid in front of you right there's like school there's like I don't know TV games right to us it was like obvious well school we need to take care of that first we want to take care of that first that's the default then everything else is extra because of course it is because we knew what school does and more importantly I see now that school was not easy for our family to have access to we are so lucky that my grandpa was able to get out of farming I would not exist I would literally not exist even if um my dad even if my dad had a kid they would all be Farmers right now they would all be out there struggling Under the Sun at Mercy to the weather the circumstances of that year at Mercy to food prices and all the other things that we can't imagine so school education that's our opportunity to have some control first of all you're already at a great starting point so at least work hard enough so that you keep your great Fortune right now there's a lot of inflation and competitiveness so at least work hard enough such that you stay at that same level it's going to be harder to stay at that same level as time goes on but it's the same for everyone else right Society is getting harder for everyone we're not talking about the rich people here okay but obviously I was not rich we were never rich not only that but when you get to post College you will see the differences between people who didn't work hard in school it's so obvious you will meet someone and ah this makes me sound so bad but you can tell if they are someone who worked hard in school or not maybe uh a factor is their current job but often it might just be their resilience and their I say that word so much and their discipline and the way they view the world things are holistic I believe that this background and this understanding of how important education is makes me better in all other aspects those values that my parents helped instill in me along with the work ethic I am an athlete I'm pretty fit I will go to the gym and I will will hurt my muscles not really hurt but I will strain my muscles and push them because I know pushing makes you better never was I like studying is so fun learning is so fun no people who are good at school do not think studying is fun maybe some do I don't know those people those days and nights grinding in a closet sized room on books with the pressure of China's schooling while his parents are watching TV while his two younger siblings were playing my dad grinding away at his books do you think that was fun no but it got him to earn the living that he could later in the US and it gave him the ability to start building capital for our family and to be able to send money back home to China so now my grandparents live in a nicer apartment so they can now eat things they want to so they can now eat more than they ever had when they were younger because of my dad's hard work over and over again not really knowing where that would lead him because of that hard work our whole family is lifted up our whole family is in a more comfortable situation because of that his siblings grandparents now my family can afford my grandpa's surgeries and his chemo that's all because of the hard work that my dad put in into school because he saw education as an opportunity the default is working hard in school in his mind there's no other possibility of how you should spend your time when you're in that situation and when you're given the gift of Education I was never like oh my gosh I love studying for the sad because this tool is just so fun and this class is gamified so I want to try and earn these points and that's how I'm going to get an A in the class no the default is trying your best because let me ask you aren't you curious about what your upper limit is aren't you curious about the things you can achieve if you cut out the disadvantages like if you cut out social media right like you can already imagine how much better you'll be like aren't you curious aren't you curious if you couldn't get that a because of social media or you can actually get that a because you have the potential don't you want to know what your potential is that's also something that drives me because only once my grandpa was able to be put in this new position of a gin then oh he can have my dad and then my dad working hard because of my grandparents hard work then he can see oh this is the heights I can reach and he can come to the US and now I'm like hm what kind of limits can I reach or like how unlimited can I be we have to want that cuz that's fun too that's what makes life great and and it's very enjoyable too the process my grandpa was limited he worked his hardest as a farmer to Gin to the manual labor worker that's the limit he can reach he can't even get what you have right now he worked to get that limit then my dad he was in China living in poor conditions but you know what he worked hard and he found his limit he raised that limit and now gave that as a starting point to me and so now I'm like I want I I wish my parents my grandparents could have enjoyed as many of the Privileges that I do now because my life is insane compared to theirs our generation is insanely insanely privileged and spoiled I say that as someone who also thinks I am spoiled cuz my parents they find such joy out of the little things like oh my gosh this meat pancake we could only have this once a year as kids things like that and my grandma to this day when we eat out together she will not touch her food even though we have abundance and food for everyone when we go out to eat now she will not touch it she refuses all of us every single meal we're like Grandma eat more of this n n you Tre B she's like w I'm not hungry because she cannot get rid of the habit of sacrificing food for her children because there was not enough it was so scarce that she could she can not get out of the Habit because in her mind it's always like but what if something happens but we don't have enough she fills herself self up with water before our meals saying I'm not hungry and then after everyone's finished then she goes and it's like okay and then she takes a few bites because he's actually hungry so uh maybe the way to get kids more driven I don't want to say kids cuz now I just sound like an old gezer who who you're not going to listen to maybe the way to get students driven is to show them what a hard life really is a hard life is studying no hard that's that's an easy life that's that's a blissful life if the biggest thing you have to do is get straight A and do extracurriculars kids would love to do extracurriculars in China when I went back we were leaving from dinner one night 9:30 [Music] p.m. students were out on the street in their backpacks because school just let out they wake up in the morning study at 6:00 a.m. that's called preschool tutoring or something go to school till 9:30 they have no chance of doing extracurriculars like you do I I'm generalizing I know I I assume that you know if you have time to watch YouTube maybe you you have time for some extracurriculars they cannot play sports and have these opportunities like we do we should be grateful for that and we should try hard any opportunity we're given we should try hard and use it if we don't use this gift of Education we've been given we are doing it we that is that is disgraceful to it that's like saying like oh you gave me this gift nah I don't need it when thousands of kids over the world wanted that thing that you have right now the big takeway is stop living your life on autopilot don't study right now just because you're like oh Amy told me to study no you have to feel and internalize the things I said in this video and see how they apply to your own life what kind of things can you do to make yourself feel like you are doing something right each day CU you'll actually be happier too like are you really happy when you don't do the right thing I can't tell you the number of DMS emails and comments saying I can't focus I'm unmotivated I'm bad at time management there's this email I got the other day I'm so overwhelmed I have so many hard classes extracurriculars and I have to do family things like how do I get the time to do this Amy can you help me with time management in that same email the last paragraph goes also I'm spending six hours a day on Instagram and I was like if we just take a step back and do some critical thinking ourselves we can come up with solutions for ourselves you must tap out of your own Brain before you start asking other people because otherwise you are using your your help tokens on cheap things the answer is in the email right like until you delete social media don't ask any other questions about how to fix this how to fix this how to fix that that is like the number one thing you can do that will make much more of an impact than other things because when you look on social media right you're seeing these 13-year-old kids doing tiktock dances they're like buying aritzia clothes with their parents' money they're they're they're wearing things that my parents could have never dreamed of not even at their age now my parents now are still not willing to spend money on nice things for themselves because of the habit of frugality I'm trying to help them I try to I try to buy nice things for them because they deserve it but yeah social media you are so almost like brainwashed and your your mindset is Warped you don't remember the things that matter you don't remember how you got here you don't remember the gifts that you've been given so this video I hope this is a sign and you make some changes because if you continue scrolling right after this that's going to be canceling out the mindset that you just built by watching this video your brain is something that should be trained too like I said in my other videos there's this concept of ying yang that I kind of coined it's like mindset and action are Ying having the right mindset thinking the right way will make action easier then when you make the right action your mindset will also improve and it's a self-propagating circle but you can also have it Go the negative way if you have a bad mindset you're going to make a bad action bad action makes you feel worse and whoop Loop in a bad way and spiral down we want to spiral up if you're able to watch YouTube videos if you're even able to think about how much you hate school and consider not doing it and slacking off and you're binging Netflix you are privileged you are in a privileged position so don't do the things that other people wish they had disj justice due by the people who are still poor and suffering around the world just do better because they want what you have you know like be grateful be happy and when studying is something you want to do I mean it's easier I'm not saying you like doing it because I did not like studying but I wanted to do it there's a difference before you consume a piece of content ask yourself is this making me better or worse same thing like with junk food if your goals to have a ripped body tone for summer and those six-pack abs are you going to choose the apple or the bag of chips life is made by our choices the choices of working hard in school day after day to lift up yourself and your family you have an opportunity here you have an opport opportunity to design the life you want that is way better than my grandparents and my parents lives what I mean by better is the ability to relax more to travel around the world because even though my parents are happy and my grandparents were happy they did not have the living conditions that we do now my parents are like what these college kids are traveling again we were never able to do that they would never have been able to live in New York like I do now and I want to do right by them I don't want to be ungrateful for the great life I have now so I'm going to continue working harder whenever I have something good happen in my life I'm like I got to work harder when I was on vacation with my family and we were so happy together and I was just like man to have this great life we have now when I know what life was like before I need to work harder I struggle concluding these videos because this was filmed incredibly spontaneously you know what triggered it it was because another platform emerged That was supposed to make steuding more fun and I think these are as I said in the beginning just patching up the sympto symptoms it's like social media making kids more unmotivated oh here's a tool to make learning fun so kids think that learning is supposed to be fun so they go to social media which is fun and it goes in a cycle like this social media lack of motivation fun study tool oh fun study tool nah social media and back in a circle please share and like this video if you found this helpful this is some pretty unique stuff I've never seen this on the internet before but maybe that's why this will not perform as well as I would hope I really hope this is the kind of video that would go viral to be honest but I don't think society's like that right now unfortunately but if you watch here you can help make that happen so share with your friends share with your family share on social media and then delete it bye\")]\n"
     ]
    }
   ],
   "source": [
    "doc=loader.load()\n",
    "print(doc)"
   ]
  },
  {
   "cell_type": "code",
   "execution_count": 44,
   "metadata": {},
   "outputs": [],
   "source": [
    "from langchain_google_genai import GoogleGenerativeAIEmbeddings\n",
    "#Set the API Key\n",
    "gemini_embeddings = GoogleGenerativeAIEmbeddings(model=\"models/embedding-001\")\n",
    "     "
   ]
  },
  {
   "cell_type": "code",
   "execution_count": 45,
   "metadata": {},
   "outputs": [],
   "source": [
    "# Save to disk\n",
    "vectorstore = Chroma.from_documents(\n",
    "                     documents=doc,                 # Data\n",
    "                     embedding=gemini_embeddings,    # Embedding model\n",
    "                     persist_directory=\"./chroma_db\" # Directory to save data\n",
    "                     )"
   ]
  },
  {
   "cell_type": "code",
   "execution_count": 55,
   "metadata": {},
   "outputs": [
    {
     "name": "stdout",
     "output_type": "stream",
     "text": [
      "[Document(metadata={'source': 'local'}, page_content=\"Date,,Home,xG,Score,xG,Away,\\n11-08-2023,,Burnley,0.3,0\\x963,1.9,Manchester City,\\n12-08-2023,,Arsenal,0.8,2\\x961,1.2,Nott'ham Forest,\\n12-08-2023,,Everton,2.7,0\\x961,1.5,Fulham,\\n12-08-2023,,Sheffield Utd,0.5,0\\x961,1.9,Crystal Palace,\\n12-08-2023,,Brighton,4,4\\x961,1.5,Luton Town,\\n12-08-2023,,Bournemouth,1.3,1\\x961,1.1,West Ham,\\n12-08-2023,,Newcastle Utd,3.3,5\\x961,1.8,Aston Villa,\\n13-08-2023,,Brentford,2.2,2\\x962,1.3,Tottenham,\\n13-08-2023,,Chelsea,1.4,1\\x961,1.3,Liverpool,\\n14-08-2023,,Manchester Utd,2.2,1\\x960,2.2,Wolves,\\n18-08-2023,,Nott'ham Forest,1.4,2\\x961,0.5,Sheffield Utd,\\n19-08-2023,,Fulham,0.5,0\\x963,3.7,Brentford,\\n19-08-2023,,Liverpool,3,3\\x961,1.3,Bournemouth,\\n19-08-2023,,Wolves,2.1,1\\x964,2.2,Brighton,\\n19-08-2023,,Tottenham,1.7,2\\x960,2.1,Manchester Utd,\\n19-08-2023,,Manchester City,1,1\\x960,0.3,Newcastle Utd,\\n20-08-2023,,Aston Villa,2.9,4\\x960,0.6,Everton,\\n20-08-2023,,West Ham,1.8,3\\x961,2.5,Chelsea,\\n21-08-2023,,Crystal Palace,1,0\\x961,2,Arsenal,\\n25-08-2023,,Chelsea,2.2,3\\x960,0.4,Luton Town,\\n26-08-2023,,Bournemouth,0.7,0\\x962,2.1,Tottenham,\\n26-08-2023,,Everton,1.3,0\\x961,1.1,Wolves,\\n26-08-2023,,Brentford,1,1\\x961,0.8,Crystal Palace,\\n26-08-2023,,Manchester Utd,2.8,3\\x962,1.2,Nott'ham Forest,\\n26-08-2023,,Arsenal,3.2,2\\x962,0.6,Fulham,\\n26-08-2023,,Brighton,1.5,1\\x963,3,West Ham,\\n27-08-2023,,Sheffield Utd,0.7,1\\x962,3.5,Manchester City,\\n27-08-2023,,Burnley,0.7,1\\x963,2.5,Aston Villa,\\n27-08-2023,,Newcastle Utd,2,1\\x962,0.9,Liverpool,\\n01-09-2023,,Luton Town,1.4,1\\x962,1,West Ham,\\n02-09-2023,,Sheffield Utd,1.2,2\\x962,2.5,Everton,\\n02-09-2023,,Chelsea,2.3,0\\x961,0.8,Nott'ham Forest,\\n02-09-2023,,Manchester City,2.2,5\\x961,1.4,Fulham,\\n02-09-2023,,Brentford,2.9,2\\x962,2.1,Bournemouth,\\n02-09-2023,,Burnley,1.3,2\\x965,2.2,Tottenham,\\n02-09-2023,,Brighton,1.3,3\\x961,1.2,Newcastle Utd,\\n03-09-2023,,Liverpool,2.5,3\\x960,0.7,Aston Villa,\\nDate,,Home,xG,Score,xG,Away,\\n03-09-2023,,Crystal Palace,2.1,3\\x962,1.2,Wolves,\\n03-09-2023,,Arsenal,2.3,3\\x961,0.9,Manchester Utd,\\n16-09-2023,,Wolves,0.6,1\\x963,2.5,Liverpool,\\n16-09-2023,,Fulham,1,1\\x960,1.1,Luton Town,\\n16-09-2023,,West Ham,0.9,1\\x963,3.6,Manchester City,\\n16-09-2023,,Aston Villa,3,3\\x961,1.2,Crystal Palace,\\n16-09-2023,,Manchester Utd,1,1\\x963,1.7,Brighton,\\n16-09-2023,,Tottenham,2.1,2\\x961,0.7,Sheffield Utd,\\n16-09-2023,,Newcastle Utd,1.4,1\\x960,0.5,Brentford,\\n17-09-2023,,Bournemouth,1,0\\x960,1.8,Chelsea,\\n17-09-2023,,Everton,0.3,0\\x961,1,Arsenal,\\n18-09-2023,,Nott'ham Forest,0.7,1\\x961,0.5,Burnley,\\n23-09-2023,,Manchester City,1.3,2\\x960,1,Nott'ham Forest,\\n23-09-2023,,Luton Town,2.1,1\\x961,0.6,Wolves,\\n23-09-2023,,Crystal Palace,0.3,0\\x960,0.6,Fulham,\\n23-09-2023,,Brentford,1,1\\x963,1.9,Everton,\\n23-09-2023,,Burnley,1.1,0\\x961,1,Manchester Utd,\\n24-09-2023,,Arsenal,1.8,2\\x962,1.4,Tottenham,\\n24-09-2023,,Brighton,1.9,3\\x961,1.1,Bournemouth,\\n24-09-2023,,Chelsea,1.3,0\\x961,1,Aston Villa,\\n24-09-2023,,Liverpool,3,3\\x961,1.1,West Ham,\\n24-09-2023,,Sheffield Utd,0.9,0\\x968,3.9,Newcastle Utd,\\n30-09-2023,,Aston Villa,1.6,6\\x961,1.7,Brighton,\\n30-09-2023,,Wolves,0.4,2\\x961,0.9,Manchester City,\\n30-09-2023,,Bournemouth,0.6,0\\x964,3.4,Arsenal,\\n30-09-2023,,Everton,2.9,1\\x962,0.9,Luton Town,\\n30-09-2023,,Newcastle Utd,3.1,2\\x960,0.6,Burnley,\\n30-09-2023,,West Ham,2.1,2\\x960,1.1,Sheffield Utd,\\n30-09-2023,,Manchester Utd,1.3,0\\x961,0.9,Crystal Palace,\\n30-09-2023,,Tottenham,2.2,2\\x961,1.3,Liverpool,\\n01-10-2023,,Nott'ham Forest,0.5,1\\x961,1.6,Brentford,\\n02-10-2023,,Fulham,1.1,0\\x962,1.7,Chelsea,\\n03-10-2023,,Luton Town,1.3,1\\x962,1.1,Burnley,\\n07-10-2023,,Luton Town,0.8,0\\x961,1.9,Tottenham,\\n07-10-2023,,Everton,2.4,3\\x960,0.7,Bournemouth,\\nDate,,Home,xG,Score,xG,Away,\\n07-10-2023,,Manchester Utd,1.4,2\\x961,0.9,Brentford,\\n07-10-2023,,Burnley,0.7,1\\x964,1.9,Chelsea,\\n07-10-2023,,Fulham,2.2,3\\x961,0.6,Sheffield Utd,\\n07-10-2023,,Crystal Palace,0.8,0\\x960,1,Nott'ham Forest,\\n08-10-2023,,West Ham,1.2,2\\x962,2,Newcastle Utd,\\n08-10-2023,,Wolves,1.7,1\\x961,1.6,Aston Villa,\\n08-10-2023,,Brighton,2.3,2\\x962,2.3,Liverpool,\\n08-10-2023,,Arsenal,0.4,1\\x960,0.5,Manchester City,\\n21-10-2023,,Liverpool,2.2,2\\x960,0.1,Everton,\\n21-10-2023,,Bournemouth,0.6,1\\x962,2.4,Wolves,\\n21-10-2023,,Newcastle Utd,2.4,4\\x960,1.2,Crystal Palace,\\n21-10-2023,,Brentford,3.1,3\\x960,1.1,Burnley,\\n21-10-2023,,Manchester City,0.8,2\\x961,0.8,Brighton,\\n21-10-2023,,Nott'ham Forest,2.9,2\\x962,1.7,Luton Town,\\n21-10-2023,,Chelsea,1.3,2\\x962,1,Arsenal,\\n21-10-2023,,Sheffield Utd,1.4,1\\x962,1.1,Manchester Utd,\\n22-10-2023,,Aston Villa,1.9,4\\x961,1.1,West Ham,\\n23-10-2023,,Tottenham,1.5,2\\x960,1,Fulham,\\n27-10-2023,,Crystal Palace,0.6,1\\x962,1.1,Tottenham,\\n28-10-2023,,Chelsea,1.9,0\\x962,2.2,Brentford,\\n28-10-2023,,Bournemouth,1.1,2\\x961,0.8,Burnley,\\n28-10-2023,,Arsenal,2.8,5\\x960,0,Sheffield Utd,\\n28-10-2023,,Wolves,0.9,2\\x962,2.2,Newcastle Utd,\\n29-10-2023,,West Ham,0.7,0\\x961,0.8,Everton,\\n29-10-2023,,Liverpool,3.2,3\\x960,0.4,Nott'ham Forest,\\n29-10-2023,,Brighton,1.4,1\\x961,0.7,Fulham,\\n29-10-2023,,Aston Villa,2.3,3\\x961,0.5,Luton Town,\\n29-10-2023,,Manchester Utd,0.9,0\\x963,4,Manchester City,\\n04-11-2023,,Fulham,1,0\\x961,0.7,Manchester Utd,\\n04-11-2023,,Brentford,1.5,3\\x962,1.8,West Ham,\\n04-11-2023,,Everton,0.7,1\\x961,0.5,Brighton,\\n04-11-2023,,Burnley,1.1,0\\x962,1.3,Crystal Palace,\\n04-11-2023,,Manchester City,1.9,6\\x961,0.9,Bournemouth,\\n04-11-2023,,Sheffield Utd,1,2\\x961,1.2,Wolves,\\n04-11-2023,,Newcastle Utd,1,1\\x960,0.6,Arsenal,\\n05-11-2023,,Nott'ham Forest,0.4,2\\x960,1.2,Aston Villa,\\n05-11-2023,,Luton Town,0.8,1\\x961,2.6,Liverpool,\\nDate,,Home,xG,Score,xG,Away,\\n06-11-2023,,Tottenham,0.9,1\\x964,4.1,Chelsea,\\n11-11-2023,,Wolves,2.1,2\\x961,0.7,Tottenham,\\n11-11-2023,,Arsenal,1.8,3\\x961,0.3,Burnley,\\n11-11-2023,,Manchester Utd,2.2,1\\x960,0.4,Luton Town,\\n11-11-2023,,Crystal Palace,2.2,2\\x963,1.5,Everton,\\n11-11-2023,,Bournemouth,2.4,2\\x960,0.5,Newcastle Utd,\\n12-11-2023,,West Ham,1.8,3\\x962,1.7,Nott'ham Forest,\\n12-11-2023,,Liverpool,1.7,3\\x960,1.6,Brentford,\\n12-11-2023,,Aston Villa,3,3\\x961,0.9,Fulham,\\n12-11-2023,,Brighton,1.5,1\\x961,1.1,Sheffield Utd,\\n12-11-2023,,Chelsea,2.9,4\\x964,2.9,Manchester City,\\n25-11-2023,,Manchester City,1.3,1\\x961,0.6,Liverpool,\\n25-11-2023,,Burnley,1.3,1\\x962,0.9,West Ham,\\n25-11-2023,,Nott'ham Forest,1.9,2\\x963,1.3,Brighton,\\n25-11-2023,,Sheffield Utd,0.8,1\\x963,2.9,Bournemouth,\\n25-11-2023,,Newcastle Utd,2.4,4\\x961,0.5,Chelsea,\\n25-11-2023,,Luton Town,0.9,2\\x961,1.6,Crystal Palace,\\n25-11-2023,,Brentford,1.1,0\\x961,1.6,Arsenal,\\n26-11-2023,,Tottenham,2.3,1\\x962,1.7,Aston Villa,\\n26-11-2023,,Everton,2.4,0\\x963,2.2,Manchester Utd,\\n27-11-2023,,Fulham,2.9,3\\x962,1.4,Wolves,\\n02-12-2023,,Brentford,3.1,3\\x961,0.2,Luton Town,\\n02-12-2023,,Arsenal,2.8,2\\x961,0.7,Wolves,\\n02-12-2023,,Burnley,1.8,5\\x960,0.4,Sheffield Utd,\\n02-12-2023,,Nott'ham Forest,0.7,0\\x961,0.7,Everton,\\n02-12-2023,,Newcastle Utd,2.4,1\\x960,0.5,Manchester Utd,\\n03-12-2023,,Bournemouth,2,2\\x962,0.7,Aston Villa,\\n03-12-2023,,Liverpool,2.1,4\\x963,1.2,Fulham,\\n03-12-2023,,Chelsea,2.1,3\\x962,1.1,Brighton,\\n03-12-2023,,West Ham,1.1,1\\x961,0.9,Crystal Palace,\\n03-12-2023,,Manchester City,2.6,3\\x963,0.5,Tottenham,\\n05-12-2023,,Wolves,0.8,1\\x960,0.9,Burnley,\\n05-12-2023,,Luton Town,0.5,3\\x964,2.2,Arsenal,\\n06-12-2023,,Sheffield Utd,1,0\\x962,1.7,Liverpool,\\n06-12-2023,,Crystal Palace,1,0\\x962,1.8,Bournemouth,\\n06-12-2023,,Brighton,1.5,2\\x961,1.5,Brentford,\\nDate,,Home,xG,Score,xG,Away,\\n06-12-2023,,Fulham,2.5,5\\x960,0.3,Nott'ham Forest,\\n06-12-2023,,Aston Villa,2.3,1\\x960,0.6,Manchester City,\\n06-12-2023,,Manchester Utd,4.1,2\\x961,1.5,Chelsea,\\n07-12-2023,,Everton,3.3,3\\x960,1.5,Newcastle Utd,\\n07-12-2023,,Tottenham,1.8,1\\x962,2.2,West Ham,\\n09-12-2023,,Crystal Palace,1.7,1\\x962,1.2,Liverpool,\\n09-12-2023,,Manchester Utd,1.1,0\\x963,1.5,Bournemouth,\\n09-12-2023,,Wolves,1.2,1\\x961,1.3,Nott'ham Forest,\\n09-12-2023,,Brighton,2.6,1\\x961,0.6,Burnley,\\n09-12-2023,,Sheffield Utd,0.8,1\\x960,0.6,Brentford,\\n09-12-2023,,Aston Villa,0.6,1\\x960,1.4,Arsenal,\\n10-12-2023,,Everton,1.2,2\\x960,0.9,Chelsea,\\n10-12-2023,,Fulham,2.3,5\\x960,1.3,West Ham,\\n10-12-2023,,Luton Town,0.3,1\\x962,1.6,Manchester City,\\n10-12-2023,,Tottenham,3.8,4\\x961,1.7,Newcastle Utd,\\n15-12-2023,,Nott'ham Forest,1.3,0\\x962,1.5,Tottenham,\\n16-12-2023,,Manchester City,1.6,2\\x962,1.8,Crystal Palace,\\n16-12-2023,,Chelsea,3.1,2\\x960,0.4,Sheffield Utd,\\n16-12-2023,,Newcastle Utd,3.5,3\\x960,0.3,Fulham,\\n16-12-2023,,Burnley,0.7,0\\x962,1.4,Everton,\\n17-12-2023,,Brentford,0.5,1\\x962,1.4,Aston Villa,\\n17-12-2023,,West Ham,1.1,3\\x960,0.7,Wolves,\\n17-12-2023,,Arsenal,2.3,2\\x960,0.7,Brighton,\\n17-12-2023,,Liverpool,2.3,0\\x960,0.8,Manchester Utd,\\n21-12-2023,,Crystal Palace,1.3,1\\x961,1.2,Brighton,\\n22-12-2023,,Aston Villa,0.9,1\\x961,0.6,Sheffield Utd,\\n23-12-2023,,West Ham,1.2,2\\x960,1,Manchester Utd,\\n23-12-2023,,Luton Town,1.4,1\\x960,1.4,Newcastle Utd,\\n23-12-2023,,Fulham,1.3,0\\x962,0.4,Burnley,\\n23-12-2023,,Tottenham,1.5,2\\x961,1.8,Everton,\\n23-12-2023,,Nott'ham Forest,1,2\\x963,1.6,Bournemouth,\\n23-12-2023,,Liverpool,1,1\\x961,0.7,Arsenal,\\n24-12-2023,,Wolves,1.3,2\\x961,2,Chelsea,\\n26-12-2023,,Newcastle Utd,2.4,1\\x963,3.5,Nott'ham Forest,\\n26-12-2023,,Bournemouth,1.8,3\\x960,0.3,Fulham,\\n26-12-2023,,Sheffield Utd,2.4,2\\x963,0.6,Luton Town,\\nDate,,Home,xG,Score,xG,Away,\\n26-12-2023,,Burnley,0.8,0\\x962,1.8,Liverpool,\\n26-12-2023,,Manchester Utd,1.1,3\\x962,1.7,Aston Villa,\\n27-12-2023,,Chelsea,2.6,2\\x961,1.1,Crystal Palace,\\n27-12-2023,,Brentford,2.2,1\\x964,2.4,Wolves,\\n27-12-2023,,Everton,1,1\\x963,2.4,Manchester City,\\n28-12-2023,,Brighton,3.2,4\\x962,2.3,Tottenham,\\n28-12-2023,,Arsenal,2.7,0\\x962,1.4,West Ham,\\n30-12-2023,,Luton Town,2.3,2\\x963,1.5,Chelsea,\\n30-12-2023,,Aston Villa,3.2,3\\x962,1.2,Burnley,\\n30-12-2023,,Wolves,1.9,3\\x960,0.4,Everton,\\n30-12-2023,,Manchester City,2.2,2\\x960,0.3,Sheffield Utd,\\n30-12-2023,,Crystal Palace,1,3\\x961,1.4,Brentford,\\n30-12-2023,,Nott'ham Forest,0.7,2\\x961,0.8,Manchester Utd,\\n31-12-2023,,Tottenham,2.3,3\\x961,1.7,Bournemouth,\\n31-12-2023,,Fulham,1.2,2\\x961,1.6,Arsenal,\\n01-01-2024,,Liverpool,7,4\\x962,0.6,Newcastle Utd,\\n02-01-2024,,West Ham,0.7,0\\x960,2.3,Brighton,\\n12-01-2024,,Burnley,1.1,1\\x961,0.9,Luton Town,\\n13-01-2024,,Chelsea,2.2,1\\x960,0.8,Fulham,\\n13-01-2024,,Newcastle Utd,1.3,2\\x963,3,Manchester City,\\n14-01-2024,,Everton,1.1,0\\x960,1.2,Aston Villa,\\n14-01-2024,,Manchester Utd,0.8,2\\x962,1.2,Tottenham,\\n20-01-2024,,Arsenal,3.3,5\\x960,0.3,Crystal Palace,\\n20-01-2024,,Brentford,1.2,3\\x962,1.2,Nott'ham Forest,\\n21-01-2024,,Sheffield Utd,2.5,2\\x962,2.3,West Ham,\\n21-01-2024,,Bournemouth,1.4,0\\x964,1.5,Liverpool,\\n22-01-2024,,Brighton,1,0\\x960,1.1,Wolves,\\n30-01-2024,,Nott'ham Forest,0.5,1\\x962,1.2,Arsenal,\\n30-01-2024,,Fulham,1.6,0\\x960,1.9,Everton,\\n30-01-2024,,Luton Town,3.1,4\\x960,0.9,Brighton,\\n30-01-2024,,Crystal Palace,1.1,3\\x962,0.8,Sheffield Utd,\\n30-01-2024,,Aston Villa,1.4,1\\x963,2.6,Newcastle Utd,\\n31-01-2024,,Tottenham,2.9,3\\x962,1.6,Brentford,\\n31-01-2024,,Manchester City,1.7,3\\x961,1.4,Burnley,\\n31-01-2024,,Liverpool,2.9,4\\x961,0.6,Chelsea,\\n01-02-2024,,West Ham,1.4,1\\x961,1.2,Bournemouth,\\n01-02-2024,,Wolves,2.1,3\\x964,3.3,Manchester Utd,\\nDate,,Home,xG,Score,xG,Away,\\n03-02-2024,,Everton,2.6,2\\x962,1,Tottenham,\\n03-02-2024,,Newcastle Utd,2.3,4\\x964,2.4,Luton Town,\\n03-02-2024,,Brighton,1.4,4\\x961,0.3,Crystal Palace,\\n03-02-2024,,Burnley,1.8,2\\x962,1.5,Fulham,\\n03-02-2024,,Sheffield Utd,1.4,0\\x965,2.2,Aston Villa,\\n04-02-2024,,Bournemouth,1.3,1\\x961,0.5,Nott'ham Forest,\\n04-02-2024,,Manchester Utd,0.7,3\\x960,1.4,West Ham,\\n04-02-2024,,Chelsea,1.7,2\\x964,2,Wolves,\\n04-02-2024,,Arsenal,3.5,3\\x961,0.4,Liverpool,\\n05-02-2024,,Brentford,1,1\\x963,2.1,Manchester City,\\n10-02-2024,,Manchester City,1.6,2\\x960,0.3,Everton,\\n10-02-2024,,Luton Town,1.8,1\\x963,1.7,Sheffield Utd,\\n10-02-2024,,Liverpool,2.8,3\\x961,1.3,Burnley,\\n10-02-2024,,Wolves,1,0\\x962,1.9,Brentford,\\n10-02-2024,,Fulham,1.6,3\\x961,1.8,Bournemouth,\\n10-02-2024,,Tottenham,1.6,2\\x961,1.2,Brighton,\\n10-02-2024,,Nott'ham Forest,1.5,2\\x963,0.5,Newcastle Utd,\\n11-02-2024,,West Ham,0.2,0\\x966,3.6,Arsenal,\\n11-02-2024,,Aston Villa,2.4,1\\x962,1.8,Manchester Utd,\\n12-02-2024,,Crystal Palace,0.6,1\\x963,1.4,Chelsea,\\n17-02-2024,,Brentford,1.6,1\\x964,2.8,Liverpool,\\n17-02-2024,,Newcastle Utd,2.2,2\\x962,2.2,Bournemouth,\\n17-02-2024,,Tottenham,1.6,1\\x962,1.8,Wolves,\\n17-02-2024,,Burnley,0.3,0\\x965,2.3,Arsenal,\\n17-02-2024,,Fulham,1.5,1\\x962,1.5,Aston Villa,\\n17-02-2024,,Nott'ham Forest,2.8,2\\x960,0.5,West Ham,\\n17-02-2024,,Manchester City,2.6,1\\x961,1.4,Chelsea,\\n18-02-2024,,Sheffield Utd,0.6,0\\x965,2.9,Brighton,\\n18-02-2024,,Luton Town,1.8,1\\x962,2.9,Manchester Utd,\\n19-02-2024,,Everton,1.7,1\\x961,0.7,Crystal Palace,\\n20-02-2024,,Manchester City,2.3,1\\x960,0.4,Brentford,\\n21-02-2024,,Liverpool,3.3,4\\x961,0.9,Luton Town,\\n24-02-2024,,Manchester Utd,1.7,1\\x962,1.2,Fulham,\\n24-02-2024,,Crystal Palace,2.4,3\\x960,0.1,Burnley,\\n24-02-2024,,Brighton,1.4,1\\x961,0.3,Everton,\\nDate,,Home,xG,Score,xG,Away,\\n24-02-2024,,Aston Villa,3.6,4\\x962,2.6,Nott'ham Forest,\\n24-02-2024,,Bournemouth,0.9,0\\x961,1.6,Manchester City,\\n24-02-2024,,Arsenal,2.8,4\\x961,0.2,Newcastle Utd,\\n25-02-2024,,Wolves,1.3,1\\x960,0.6,Sheffield Utd,\\n26-02-2024,,West Ham,1.7,4\\x962,0.9,Brentford,\\n02-03-2024,,Fulham,1.3,3\\x960,1.3,Brighton,\\n02-03-2024,,Tottenham,1.9,3\\x961,0.3,Crystal Palace,\\n02-03-2024,,Brentford,1.8,2\\x962,1.8,Chelsea,\\n02-03-2024,,Newcastle Utd,2.1,3\\x960,0.8,Wolves,\\n02-03-2024,,Nott'ham Forest,1,0\\x961,2,Liverpool,\\n02-03-2024,,Everton,2.7,1\\x963,1.9,West Ham,\\n02-03-2024,,Luton Town,1.8,2\\x963,1.9,Aston Villa,\\n03-03-2024,,Burnley,1.5,0\\x962,1.1,Bournemouth,\\n03-03-2024,,Manchester City,3.3,3\\x961,0.2,Manchester Utd,\\n04-03-2024,,Sheffield Utd,0.2,0\\x966,2.3,Arsenal,\\n09-03-2024,,Manchester Utd,2.7,2\\x960,1.6,Everton,\\n09-03-2024,,Bournemouth,3.3,2\\x962,1.2,Sheffield Utd,\\n09-03-2024,,Wolves,0.8,2\\x961,2.6,Fulham,\\n09-03-2024,,Crystal Palace,2.7,1\\x961,0.8,Luton Town,\\n09-03-2024,,Arsenal,1.3,2\\x961,1,Brentford,\\n10-03-2024,,Aston Villa,0.8,0\\x964,1.5,Tottenham,\\n10-03-2024,,West Ham,2.1,2\\x962,0.7,Burnley,\\n10-03-2024,,Brighton,0.4,1\\x960,0.7,Nott'ham Forest,\\n10-03-2024,,Liverpool,2.7,1\\x961,1.6,Manchester City,\\n11-03-2024,,Chelsea,1.6,3\\x962,0.7,Newcastle Utd,\\n13-03-2024,,Bournemouth,2.3,4\\x963,2,Luton Town,\\n16-03-2024,,Luton Town,0.6,1\\x961,2,Nott'ham Forest,\\n16-03-2024,,Burnley,2.8,2\\x961,1.1,Brentford,\\n16-03-2024,,Fulham,2.6,3\\x960,2.4,Tottenham,\\n17-03-2024,,West Ham,2,1\\x961,0.7,Aston Villa,\\n30-03-2024,,Newcastle Utd,4.1,4\\x963,1.4,West Ham,\\n30-03-2024,,Bournemouth,1.3,2\\x961,1,Everton,\\n30-03-2024,,Tottenham,2.9,2\\x961,0.5,Luton Town,\\n30-03-2024,,Nott'ham Forest,0.9,1\\x961,1.2,Crystal Palace,\\n30-03-2024,,Sheffield Utd,1.9,3\\x963,1.3,Fulham,\\nDate,,Home,xG,Score,xG,Away,\\n30-03-2024,,Chelsea,4.2,2\\x962,1.6,Burnley,\\n30-03-2024,,Aston Villa,1,2\\x960,1.5,Wolves,\\n30-03-2024,,Brentford,3.2,1\\x961,0.6,Manchester Utd,\\n31-03-2024,,Liverpool,2.8,2\\x961,0.5,Brighton,\\n31-03-2024,,Manchester City,1,0\\x960,0.7,Arsenal,\\n02-04-2024,,Newcastle Utd,2.4,1\\x961,1.4,Everton,\\n02-04-2024,,Nott'ham Forest,1.5,3\\x961,1.5,Fulham,\\n02-04-2024,,Bournemouth,1.1,1\\x960,0.2,Crystal Palace,\\n02-04-2024,,Burnley,1.3,1\\x961,0.9,Wolves,\\n02-04-2024,,West Ham,1.5,1\\x961,1,Tottenham,\\n03-04-2024,,Arsenal,0.7,2\\x960,0.3,Luton Town,\\n03-04-2024,,Brentford,0.6,0\\x960,1.1,Brighton,\\n03-04-2024,,Manchester City,3.4,4\\x961,0.8,Aston Villa,\\n04-04-2024,,Liverpool,1.8,3\\x961,0.6,Sheffield Utd,\\n04-04-2024,,Chelsea,3,4\\x963,1.5,Manchester Utd,\\n06-04-2024,,Crystal Palace,1.1,2\\x964,1.9,Manchester City,\\n06-04-2024,,Luton Town,1.5,2\\x961,0.4,Bournemouth,\\n06-04-2024,,Wolves,1.5,1\\x962,1.2,West Ham,\\n06-04-2024,,Fulham,1.2,0\\x961,1,Newcastle Utd,\\n06-04-2024,,Everton,0.9,1\\x960,0.5,Burnley,\\n06-04-2024,,Aston Villa,1.5,3\\x963,1.5,Brentford,\\n06-04-2024,,Brighton,0.5,0\\x963,3.4,Arsenal,\\n07-04-2024,,Manchester Utd,0.7,2\\x962,3.6,Liverpool,\\n07-04-2024,,Sheffield Utd,1.4,2\\x962,0.3,Chelsea,\\n07-04-2024,,Tottenham,1.5,3\\x961,1.5,Nott'ham Forest,\\n13-04-2024,,Newcastle Utd,2.8,4\\x960,0.8,Tottenham,\\n13-04-2024,,Manchester City,4.2,5\\x961,0.5,Luton Town,\\n13-04-2024,,Nott'ham Forest,1.9,2\\x962,1,Wolves,\\n13-04-2024,,Brentford,1,2\\x960,0.8,Sheffield Utd,\\n13-04-2024,,Burnley,1.7,1\\x961,0.9,Brighton,\\n13-04-2024,,Bournemouth,1.6,2\\x962,1.2,Manchester Utd,\\n14-04-2024,,Liverpool,2.7,0\\x961,2,Crystal Palace,\\n14-04-2024,,West Ham,0.9,0\\x962,3.2,Fulham,\\n14-04-2024,,Arsenal,1.6,0\\x962,0.9,Aston Villa,\\n15-04-2024,,Chelsea,3.1,6\\x960,1.5,Everton,\\n20-04-2024,,Luton Town,0.6,1\\x965,3.1,Brentford,\\nDate,,Home,xG,Score,xG,Away,\\n20-04-2024,,Sheffield Utd,2.4,1\\x964,2.2,Burnley,\\n20-04-2024,,Wolves,0.2,0\\x962,1.2,Arsenal,\\n21-04-2024,,Everton,0.3,2\\x960,0.9,Nott'ham Forest,\\n21-04-2024,,Aston Villa,2.4,3\\x961,1.8,Bournemouth,\\n21-04-2024,,Crystal Palace,2.4,5\\x962,1.3,West Ham,\\n21-04-2024,,Fulham,0.8,1\\x963,1,Liverpool,\\n23-04-2024,,Arsenal,3.3,5\\x960,1.6,Chelsea,\\n24-04-2024,,Wolves,0.5,0\\x961,1.9,Bournemouth,\\n24-04-2024,,Manchester Utd,2.9,4\\x962,0.8,Sheffield Utd,\\n24-04-2024,,Everton,1.2,2\\x960,2.1,Liverpool,\\n24-04-2024,,Crystal Palace,0.9,2\\x960,0.4,Newcastle Utd,\\n25-04-2024,,Brighton,0.6,0\\x964,1.4,Manchester City,\\n27-04-2024,,West Ham,0.7,2\\x962,1.7,Liverpool,\\n27-04-2024,,Wolves,1.2,2\\x961,0.6,Luton Town,\\n27-04-2024,,Fulham,1.1,1\\x961,1,Crystal Palace,\\n27-04-2024,,Manchester Utd,2.7,1\\x961,2.1,Burnley,\\n27-04-2024,,Newcastle Utd,3.1,5\\x961,1.5,Sheffield Utd,\\n27-04-2024,,Everton,0.8,1\\x960,0.9,Brentford,\\n27-04-2024,,Aston Villa,1.1,2\\x962,1.6,Chelsea,\\n28-04-2024,,Tottenham,2.3,2\\x963,1,Arsenal,\\n28-04-2024,,Bournemouth,1.9,3\\x960,0.9,Brighton,\\n28-04-2024,,Nott'ham Forest,1.9,0\\x962,0.9,Manchester City,\\n02-05-2024,,Chelsea,2.2,2\\x960,1.6,Tottenham,\\n03-05-2024,,Luton Town,0.8,1\\x961,1.4,Everton,\\n04-05-2024,,Arsenal,3.3,3\\x960,0.5,Bournemouth,\\n04-05-2024,,Burnley,1,1\\x964,3.4,Newcastle Utd,\\n04-05-2024,,Sheffield Utd,2.2,1\\x963,1.5,Nott'ham Forest,\\n04-05-2024,,Brentford,0.6,0\\x960,1.3,Fulham,\\n04-05-2024,,Manchester City,3.7,5\\x961,0.3,Wolves,\\n05-05-2024,,Brighton,2.5,1\\x960,0.1,Aston Villa,\\n05-05-2024,,Chelsea,4.1,5\\x960,0.9,West Ham,\\n05-05-2024,,Liverpool,3.3,4\\x962,1.2,Tottenham,\\n06-05-2024,,Crystal Palace,1.7,4\\x960,0.4,Manchester Utd,\\n11-05-2024,,Fulham,0.1,0\\x964,3.2,Manchester City,\\n11-05-2024,,Wolves,1.6,1\\x963,2.6,Crystal Palace,\\nDate,,Home,xG,Score,xG,Away,\\n11-05-2024,,West Ham,3.2,3\\x961,0.3,Luton Town,\\n11-05-2024,,Tottenham,2.7,2\\x961,0.7,Burnley,\\n11-05-2024,,Everton,2.3,1\\x960,0.6,Sheffield Utd,\\n11-05-2024,,Newcastle Utd,2.2,1\\x961,1.4,Brighton,\\n11-05-2024,,Bournemouth,0.7,1\\x962,1.1,Brentford,\\n11-05-2024,,Nott'ham Forest,1.5,2\\x963,1.6,Chelsea,\\n12-05-2024,,Manchester Utd,0.5,0\\x961,1.5,Arsenal,\\n13-05-2024,,Aston Villa,3.1,3\\x963,1.7,Liverpool,\\n14-05-2024,,Tottenham,1.7,0\\x962,2.4,Manchester City,\\n15-05-2024,,Brighton,1.3,1\\x962,1.5,Chelsea,\\n15-05-2024,,Manchester Utd,1.5,3\\x962,2.2,Newcastle Utd,\\n19-05-2024,,Luton Town,2,2\\x964,1.1,Fulham,\\n19-05-2024,,Sheffield Utd,1,0\\x963,3.1,Tottenham,\\n19-05-2024,,Manchester City,1.9,3\\x961,0.4,West Ham,\\n19-05-2024,,Arsenal,2.9,2\\x961,0.6,Everton,\\n19-05-2024,,Brighton,1.7,0\\x962,1.3,Manchester Utd,\\n19-05-2024,,Brentford,1.1,2\\x964,3.4,Newcastle Utd,\\n19-05-2024,,Chelsea,1.1,2\\x961,2.2,Bournemouth,\\n19-05-2024,,Crystal Palace,2.5,5\\x960,0.9,Aston Villa,\\n19-05-2024,,Liverpool,4.5,2\\x960,0.5,Wolves,\\n19-05-2024,,Burnley,1.2,1\\x962,1.7,Nott'ham Forest,\\ufeff,,Home,,,,,,,,,,,,,Away,,,,,,,,,,,,\\nRk,Squad,MP,W,D,L,GF,GA,GD,Pts,Pts/MP,xG,xGA,xGD,xGD/90,MP,W,D,L,GF,GA,GD,Pts,Pts/MP,xG,xGA,xGD,xGD/90\\n1, Manchester City,19,14,5,0,51,16,35,47,2.47,40.7,14,26.7,1.41,19,14,2,3,45,18,27,44,2.32,39.8,21.6,18.2,0.96\\n2, Arsenal,19,15,2,2,48,16,32,47,2.47,43.5,13.5,30,1.58,19,13,3,3,43,13,30,42,2.21,32.6,14.5,18.2,0.96\\n3,Liverpool,19,15,3,1,49,17,32,48,2.53,54.7,17.6,37.1,1.95,19,9,7,3,37,24,13,34,1.79,33,28.1,4.9,0.26\\n4, Aston Villa,19,12,4,3,48,28,20,40,2.11,39,26.3,12.7,0.67,19,8,4,7,28,33,-5,28,1.47,24.3,33.6,-9.3,-0.49\\n5,Tottenham,19,13,0,6,38,27,11,39,2.05,39.2,29.3,9.9,0.52,19,7,6,6,36,34,2,27,1.42,28.9,34.1,-5.2,-0.27\\n6,Chelsea,19,11,4,4,44,26,18,37,1.95,44.2,24.9,19.2,1.01,19,7,5,7,33,37,-4,26,1.37,30.3,33.1,-2.8,-0.15\\n7,Newcastle Utd,19,12,4,3,49,22,27,40,2.11,46.4,25,21.4,1.12,19,6,2,11,36,40,-4,20,1.05,29.6,36.4,-6.7,-0.36\\n8,Manchester Utd,19,10,3,6,31,28,3,33,1.74,32.3,31.5,0.8,0.04,19,8,3,8,26,30,-4,27,1.42,24.1,37.4,-13.2,-0.7\\n9,West Ham,19,7,8,4,31,28,3,29,1.53,26.3,29.7,-3.5,-0.18,19,7,2,10,29,46,-17,23,1.21,26.1,41.4,-15.3,-0.8\\n10,Crystal Palace,19,8,4,7,37,26,11,28,1.47,27.3,20.9,6.5,0.34,19,5,6,8,20,32,-12,21,1.11,21.2,31.1,-9.9,-0.52\\n11,Brighton,19,8,6,5,30,27,3,30,1.58,32.1,25.4,6.8,0.36,19,4,6,9,25,35,-10,18,0.95,24.7,30.1,-5.4,-0.28\\n12,Bournemouth,19,7,6,6,27,28,-1,27,1.42,27.4,24.3,3.1,0.17,19,6,3,10,27,39,-12,21,1.11,28.5,33.8,-5.3,-0.28\\n13,Fulham,19,9,2,8,31,24,7,29,1.53,27.9,27.8,0.1,0,19,4,6,9,24,37,-13,18,0.95,22.9,35.1,-12.2,-0.64\\n14,Wolves,19,8,3,8,26,30,-4,27,1.42,23.2,30.5,-7.2,-0.38,19,5,4,10,24,35,-11,19,1,23.5,37.2,-13.7,-0.72\\n15,Everton,19,8,4,7,22,18,4,28,1.47,32.1,22.5,9.7,0.51,19,5,5,9,18,33,-15,20,1.05,21.9,32.7,-10.8,-0.57\\n16,Brentford,19,5,7,7,29,34,-5,22,1.16,30.8,29.7,1.1,0.06,19,5,2,12,27,31,-4,17,0.89,27.4,26.3,1.2,0.06\\ufeffRk,Squad,MP,W,D,L,GF,GA,GD,Pts,Pts/MP,xG,xGA,xGD,xGD/90,,Top Team Scorer,Goalkeeper,\\n1,\\xa0Manchester City,38,28,7,3,96,34,62,91,2.39,80.5,35.6,44.9,1.18,,Erling Haaland\\xa0-\\xa027,Ederson,\\n2,\\xa0Arsenal,38,28,5,5,91,29,62,89,2.34,76.1,27.9,48.2,1.27,,Bukayo Saka\\xa0-\\xa016,David Raya,\\n3,\\xa0Liverpool,38,24,10,4,86,41,45,82,2.16,87.8,45.7,42,1.11,,Mohamed Salah\\xa0-\\xa018,Alisson,\\n4,\\xa0Aston Villa,38,20,8,10,76,61,15,68,1.79,63.3,59.9,3.4,0.09,,Ollie Watkins\\xa0-\\xa019,Emiliano Martínez,\\n5,\\xa0Tottenham,38,20,6,12,74,61,13,66,1.74,68.2,63.4,4.8,0.13,,Son Heung-min\\xa0-\\xa017,Guglielmo Vicario,\\n6,\\xa0Chelsea,38,18,9,11,77,63,14,63,1.66,74.5,58.1,16.4,0.43,,Cole Palmer\\xa0-\\xa022,Đorđe Petrović,\\n7,\\xa0Newcastle Utd,38,18,6,14,85,62,23,60,1.58,76,61.4,14.6,0.38,,Alexander Isak\\xa0-\\xa021,Martin Dúbravka,\\n8,\\xa0Manchester Utd,38,18,6,14,57,58,-1,60,1.58,56.5,68.9,-12.5,-0.33,,Rasmus Højlund,\\xa0Bruno Fernandes\\xa0-\\xa010,André Onana,\\n9,\\xa0West Ham,38,14,10,14,60,74,-14,52,1.37,52.3,71.1,-18.8,-0.49,,Jarrod Bowen\\xa0-\\xa016,Alphonse Areola,\\n10,\\xa0Crystal Palace,38,13,10,15,57,58,-1,49,1.29,48.6,52,-3.4,-0.09,,Jean-Philippe Mateta\\xa0-\\xa016,Sam Johnstone,\\n11,\\xa0Brighton,38,12,12,14,55,62,-7,48,1.26,56.8,55.4,1.4,0.04,,João Pedro\\xa0-\\xa09,Bart Verbruggen,\\n12,\\xa0Bournemouth,38,13,9,16,54,67,-13,48,1.26,55.9,58.1,-2.2,-0.06,,Dominic Solanke\\xa0-\\xa019,Neto,\\n13,\\xa0Fulham,38,13,8,17,55,61,-6,47,1.24,50.8,62.9,-12.1,-0.32,,Rodrigo Muniz\\xa0-\\xa09,Bernd Leno,\\n14,\\xa0Wolves,38,13,7,18,50,65,-15,46,1.21,46.7,67.7,-21,-0.55,,Hwang Hee-chan,\\xa0Matheus Cunha\\xa0-\\xa012,José Sá,\\n15,\\xa0Everton,38,13,9,16,40,51,-11,42,1.11,54,55.2,-1.2,-0.03,,Abdoulaye Doucouré,\\xa0Dominic Calvert-Lewin\\xa0-\\xa07,Jordan Pickford,\\n16,\\xa0Brentford,38,10,9,19,56,65,-9,39,1.03,58.2,56,2.2,0.06,,Yoane Wissa\\xa0-\\xa012,Mark Flekken,\\n17,\\xa0Nott'ham Forest,38,9,9,20,49,67,-18,32,0.84,49.9,53.2,-3.3,-0.09,,,,\\nSquad: The name of the football team or squad.\\nMP: Matches Played - The number of matches the team has played.\\nW: Wins - The number of matches the team has won.\\nD: Draws - The number of matches that ended in a draw.\\nL: Losses - The number of matches the team has lost.\\nGF: Goals For - The total number of goals scored by the team.\\nGA: Goals Against - The total number of goals conceded by the team.\\nGD: Goal Difference - The difference between goals scored and goals conceded (GF - GA).\\nPts: Points - The total number of points the team has earned (usually 3 for a win, 1 for a draw).\\nPts/MP: Points per Match - The average number of points earned per match.\\nxG: Expected Goals - The estimated number of goals the team is expected to score based on chances created.\\nxGA: Expected Goals Against - The estimated number of goals the team is expected to concede based on chances allowed.\\nxGD: Expected Goal Difference - The difference between expected goals and expected goals against (xG - xGA).\\nxGD/90: Expected Goal Difference per 90 minutes - The average expected goal difference per full match.\\nAttendance: The average number of spectators attending the team's home matches.\\nTop Team Scorer: The player who has scored the most goals for the team.\")]\n"
     ]
    }
   ],
   "source": [
    "\n",
    "vectorstore_disk = Chroma(\n",
    "                        persist_directory=\"./chroma_db\",       # Directory of db\n",
    "                        embedding_function=gemini_embeddings   # Embedding model\n",
    "                   )\n",
    "# Since only 1 document is stored in the Chroma vector store, search_kwargs `k`\n",
    "# is set to 1 to decrease the `k` value of chroma's similarity search from 4 to\n",
    "# 1. If you don't pass this value, you will get a warning.\n",
    "retriever = vectorstore_disk.as_retriever(search_kwargs={\"k\": 1})\n"
   ]
  },
  {
   "cell_type": "code",
   "execution_count": 56,
   "metadata": {},
   "outputs": [],
   "source": [
    "from langchain_google_genai import ChatGoogleGenerativeAI\n",
    "#Set the API Key\n",
    "llm = ChatGoogleGenerativeAI(model=\"gemini-pro\",\n",
    "                 temperature=0.7, top_p=0.85)"
   ]
  },
  {
   "cell_type": "markdown",
   "metadata": {},
   "source": [
    "Edit the Prompt Template according to your need"
   ]
  },
  {
   "cell_type": "code",
   "execution_count": 70,
   "metadata": {},
   "outputs": [
    {
     "name": "stdout",
     "output_type": "stream",
     "text": [
      "input_variables=['context', 'question'] template='\\nYou are an assistant for creating Q&A responses. Use the following context to answer the question thoroughly and accurately. Keep the answer concise and to the point.\\n\\nQuestion: {question}\\n\\nContext: Provide a detailed answer based on the given context.\\n\\nContext: {context}\\nAnswer:\\n'\n"
     ]
    }
   ],
   "source": [
    "llm_prompt_template = \"\"\"\n",
    "You are an assistant for creating Q&A responses. Use the following context to answer the question thoroughly and accurately. Keep the answer concise and to the point.\n",
    "\n",
    "Question: {question}\n",
    "\n",
    "Context: Provide a detailed answer based on the given context.\n",
    "\n",
    "Context: {context}\n",
    "Answer:\n",
    "\"\"\"\n",
    "\n",
    "llm_prompt = PromptTemplate.from_template(llm_prompt_template)\n",
    "print(llm_prompt)\n"
   ]
  },
  {
   "cell_type": "code",
   "execution_count": 71,
   "metadata": {},
   "outputs": [],
   "source": [
    "def format_docs(docs):\n",
    "    return \"\\n\\n\".join(doc.page_content for doc in docs)\n",
    "\n",
    "rag_chain = (\n",
    "    {\"context\": retriever | format_docs, \"question\":RunnablePassthrough()}\n",
    "    | llm_prompt\n",
    "    | llm\n",
    "    | StrOutputParser()\n",
    ")"
   ]
  },
  {
   "cell_type": "code",
   "execution_count": 76,
   "metadata": {},
   "outputs": [
    {
     "data": {
      "text/plain": [
       "\"Social media can have negative effects on students' academic performance and overall well-being. Spending excessive time on social media can lead to:\\n\\n* **Reduced motivation and focus:** Social media platforms are designed to be engaging and addictive, which can make it difficult for students to resist the temptation to scroll through their feeds instead of focusing on their studies.\\n* **Sleep deprivation:** Many students stay up late scrolling through social media, which can disrupt their sleep patterns and make it harder to concentrate in class.\\n* **Increased stress and anxiety:** Social media can create unrealistic expectations and portrayals of life, which can lead to feelings of inadequacy and anxiety in students.\\n* **Cyberbullying and online harassment:** Social media platforms can provide a breeding ground for cyberbullying and online harassment, which can negatively impact students' mental health.\\n* **Distraction from other activities:** Social media can consume a significant amount of time, which could be spent on more productive activities such as studying, extracurricular activities, or spending time with family and friends.\""
      ]
     },
     "execution_count": 76,
     "metadata": {},
     "output_type": "execute_result"
    }
   ],
   "source": [
    "\n",
    "rag_chain.invoke(\"Social Media effects\")"
   ]
  },
  {
   "cell_type": "code",
   "execution_count": null,
   "metadata": {},
   "outputs": [],
   "source": []
  }
 ],
 "metadata": {
  "kernelspec": {
   "display_name": ".venv",
   "language": "python",
   "name": "python3"
  },
  "language_info": {
   "codemirror_mode": {
    "name": "ipython",
    "version": 3
   },
   "file_extension": ".py",
   "mimetype": "text/x-python",
   "name": "python",
   "nbconvert_exporter": "python",
   "pygments_lexer": "ipython3",
   "version": "3.10.11"
  }
 },
 "nbformat": 4,
 "nbformat_minor": 2
}
